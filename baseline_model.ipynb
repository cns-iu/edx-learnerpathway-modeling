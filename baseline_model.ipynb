{
 "cells": [
  {
   "cell_type": "code",
   "execution_count": 1,
   "metadata": {},
   "outputs": [],
   "source": [
    "import pandas as pd\n",
    "import numpy as np\n",
    "import matplotlib.pyplot as plt\n",
    "import os\n",
    "from glob import glob\n",
    "from collections import defaultdict\n",
    "from data_parsing import load_trajectories"
   ]
  },
  {
   "cell_type": "code",
   "execution_count": 2,
   "metadata": {},
   "outputs": [],
   "source": [
    "trajectories = load_trajectories('data/MITxPRO+AMxB+1T2018/edges')"
   ]
  },
  {
   "cell_type": "code",
   "execution_count": 9,
   "metadata": {},
   "outputs": [],
   "source": [
    "transition_counts = defaultdict(lambda : defaultdict(int))\n",
    "state_counts = defaultdict(int)\n",
    "len(trajectories)\n",
    "\n",
    "index = np.arange(len(trajectories))\n",
    "np.random.seed(9)\n",
    "np.random.shuffle(index)\n",
    "\n",
    "n = 1 # number of URL in a state\n",
    "for i in index[:800]:\n",
    "    traj = trajectories.iloc[i]\n",
    "    state = n*[0]\n",
    "    for url in traj[1:]:\n",
    "        ts = tuple(state)\n",
    "        transition_counts[ts][url] += 1\n",
    "        state.append(url)\n",
    "        state = state[1:]"
   ]
  },
  {
   "cell_type": "code",
   "execution_count": 10,
   "metadata": {},
   "outputs": [
    {
     "name": "stdout",
     "output_type": "stream",
     "text": [
      "Accuracy:  0.48261037916621163\n"
     ]
    }
   ],
   "source": [
    "correct = 0\n",
    "total = 0\n",
    "for i in index[800:]:\n",
    "    traj = trajectories.iloc[i]\n",
    "    state = n*[0]\n",
    "    for url in traj[1:]:\n",
    "        ts = tuple(state)\n",
    "        if len(transition_counts[ts]) > 0:   \n",
    "            most_likely_url = max(transition_counts[ts], key=transition_counts[ts].get)\n",
    "            if most_likely_url == url:\n",
    "                correct += 1\n",
    "        total += 1\n",
    "        state.append(url)\n",
    "        state = state[1:]\n",
    "print(\"Accuracy: \", correct / total)"
   ]
  },
  {
   "cell_type": "code",
   "execution_count": null,
   "metadata": {},
   "outputs": [],
   "source": []
  }
 ],
 "metadata": {
  "kernelspec": {
   "display_name": "Python 3",
   "language": "python",
   "name": "python3"
  },
  "language_info": {
   "codemirror_mode": {
    "name": "ipython",
    "version": 3
   },
   "file_extension": ".py",
   "mimetype": "text/x-python",
   "name": "python",
   "nbconvert_exporter": "python",
   "pygments_lexer": "ipython3",
   "version": "3.7.6"
  }
 },
 "nbformat": 4,
 "nbformat_minor": 4
}
