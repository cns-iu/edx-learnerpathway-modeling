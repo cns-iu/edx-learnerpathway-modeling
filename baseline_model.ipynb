{
 "cells": [
  {
   "cell_type": "code",
   "execution_count": 1,
   "metadata": {},
   "outputs": [],
   "source": [
    "import pandas as pd\n",
    "import numpy as np\n",
    "import matplotlib.pyplot as plt\n",
    "import os\n",
    "from glob import glob\n",
    "from collections import defaultdict"
   ]
  },
  {
   "cell_type": "code",
   "execution_count": 2,
   "metadata": {},
   "outputs": [
    {
     "data": {
      "text/plain": [
       "3483"
      ]
     },
     "execution_count": 2,
     "metadata": {},
     "output_type": "execute_result"
    },
    {
     "data": {
      "image/png": "[encoded data removed]",
      "text/plain": [
       "<Figure size 432x288 with 1 Axes>"
      ]
     },
     "metadata": {
      "needs_background": "light"
     },
     "output_type": "display_data"
    }
   ],
   "source": [
    "# for each student this is list of numerical id's for the URLs - removing duplicates\n",
    "def get_trajectory(df):\n",
    "    order = [0]\n",
    "    for url in df['order']:\n",
    "        if url != order[-1]:\n",
    "            order.append(url)\n",
    "    order.append(0)\n",
    "    return order\n",
    "\n",
    "trajectories = []\n",
    "\n",
    "for fname in glob('data/MITxPRO+AMxB+1T2018/edges/*.csv'):\n",
    "    df = pd.read_csv(fname)\n",
    "    trajectories.append(df)\n",
    "    \n",
    "trajectories = pd.concat(trajectories)\n",
    "trajectories = trajectories.groupby('user_id').apply(get_trajectory)\n",
    "traj_lengths = trajectories.map(len).values\n",
    "\n",
    "plt.hist(traj_lengths)\n",
    "max(traj_lengths)\n",
    "#trajectories[:25]"
   ]
  },
  {
   "cell_type": "code",
   "execution_count": 3,
   "metadata": {},
   "outputs": [
    {
     "data": {
      "text/plain": [
       "user_id\n",
       "4637137    [0, 1, 2, 1, 4, 5, 6, 8, 9, 10, 11, 21, 28, 30...\n",
       "5603337    [0, 1, 2, 4, 5, 6, 8, 9, 10, 9, 11, 10, 21, 28...\n",
       "dtype: object"
      ]
     },
     "execution_count": 3,
     "metadata": {},
     "output_type": "execute_result"
    }
   ],
   "source": [
    "trajectories.iloc[[4,7]]"
   ]
  },
  {
   "cell_type": "code",
   "execution_count": 4,
   "metadata": {},
   "outputs": [],
   "source": [
    "transition_counts = defaultdict(lambda : defaultdict(int))\n",
    "state_counts = defaultdict(int)\n",
    "len(trajectories)\n",
    "\n",
    "index = np.arange(len(trajectories))\n",
    "np.random.seed(9)\n",
    "np.random.shuffle(index)\n",
    "\n",
    "n = 3 #number of URL in a state\n",
    "for i in index[:800]:\n",
    "    traj = trajectories.iloc[i]\n",
    "    state = n*[0]\n",
    "    for url in traj[1:]:\n",
    "        ts = tuple(state)\n",
    "        transition_counts[ts][url] += 1\n",
    "        state_counts[ts] += 1\n",
    "        state.append(url)\n",
    "        state = state[1:]\n"
   ]
  },
  {
   "cell_type": "code",
   "execution_count": 5,
   "metadata": {},
   "outputs": [],
   "source": [
    "#transition_counts"
   ]
  },
  {
   "cell_type": "code",
   "execution_count": 6,
   "metadata": {},
   "outputs": [
    {
     "data": {
      "text/plain": [
       "0.715998945927796"
      ]
     },
     "execution_count": 6,
     "metadata": {},
     "output_type": "execute_result"
    }
   ],
   "source": [
    "# train?\n",
    "\n",
    "correct = 0\n",
    "total = 0\n",
    "for i in index[:800]:\n",
    "    traj = trajectories.iloc[i]\n",
    "    state = n*[0]\n",
    "    for url in traj[1:]:\n",
    "        ts = tuple(state)\n",
    "        if len(transition_counts[ts]) > 0:   \n",
    "            most_likely_url = max(transition_counts[ts], key=transition_counts[ts].get)\n",
    "            if most_likely_url == url:\n",
    "                correct += 1\n",
    "        total += 1\n",
    "        state.append(url)\n",
    "        state = state[1:]\n",
    "correct / total"
   ]
  },
  {
   "cell_type": "code",
   "execution_count": 7,
   "metadata": {},
   "outputs": [
    {
     "data": {
      "text/plain": [
       "0.5476712899991064"
      ]
     },
     "execution_count": 7,
     "metadata": {},
     "output_type": "execute_result"
    }
   ],
   "source": [
    "#test?\n",
    "\n",
    "correct = 0\n",
    "total = 0\n",
    "for i in index[800:]:\n",
    "    traj = trajectories.iloc[i]\n",
    "    state = n*[0]\n",
    "    for url in traj[1:]:\n",
    "        ts = tuple(state)\n",
    "        if len(transition_counts[ts]) > 0:   \n",
    "            most_likely_url = max(transition_counts[ts], key=transition_counts[ts].get)\n",
    "            if most_likely_url == url:\n",
    "                correct += 1\n",
    "        total += 1\n",
    "        state.append(url)\n",
    "        state = state[1:]\n",
    "correct / total"
   ]
  },
  {
   "cell_type": "code",
   "execution_count": 61,
   "metadata": {},
   "outputs": [
    {
     "name": "stdout",
     "output_type": "stream",
     "text": [
      "701\n"
     ]
    },
    {
     "data": {
      "text/plain": [
       "defaultdict(int,\n",
       "            {8: 552,\n",
       "             5: 93,\n",
       "             7: 36,\n",
       "             10: 1,\n",
       "             129: 1,\n",
       "             0: 1,\n",
       "             1: 3,\n",
       "             128: 2,\n",
       "             457: 1,\n",
       "             2: 3,\n",
       "             67: 1,\n",
       "             61: 1,\n",
       "             68: 1,\n",
       "             9: 2,\n",
       "             440: 1,\n",
       "             69: 1,\n",
       "             460: 1})"
      ]
     },
     "execution_count": 61,
     "metadata": {},
     "output_type": "execute_result"
    }
   ],
   "source": [
    "print(state_counts[(4,5,6)])\n",
    "transition_counts[(4,5,6)]"
   ]
  },
  {
   "cell_type": "code",
   "execution_count": null,
   "metadata": {},
   "outputs": [],
   "source": []
  }
 ],
 "metadata": {
  "kernelspec": {
   "display_name": "Python 3",
   "language": "python",
   "name": "python3"
  },
  "language_info": {
   "codemirror_mode": {
    "name": "ipython",
    "version": 3
   },
   "file_extension": ".py",
   "mimetype": "text/x-python",
   "name": "python",
   "nbconvert_exporter": "python",
   "pygments_lexer": "ipython3",
   "version": "3.7.6"
  }
 },
 "nbformat": 4,
 "nbformat_minor": 4
}
