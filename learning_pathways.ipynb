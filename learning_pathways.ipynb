{
 "cells": [
  {
   "cell_type": "code",
   "execution_count": 2,
   "metadata": {},
   "outputs": [],
   "source": [
    "import pandas as pd\n",
    "import numpy as np\n",
    "import matplotlib.pyplot as plt\n",
    "import tensorflow as tf\n",
    "import tensorflow.keras as keras\n",
    "from tensorflow.keras.callbacks import ModelCheckpoint\n",
    "from tensorflow.keras.layers import LSTM, Dense, Input, Embedding, Reshape, Multiply\n",
    "from tensorflow.keras.optimizers import Adam\n",
    "from tensorflow.keras.models import Model\n",
    "from data_parsing import load_trajectories\n",
    "from functools import partial, reduce\n",
    "from sklearn.feature_extraction.text import CountVectorizer\n",
    "from collections import defaultdict\n",
    "from sklearn.metrics import confusion_matrix, roc_curve, auc, roc_auc_score\n",
    "# from glob import glob\n",
    "# import os"
   ]
  },
  {
   "cell_type": "code",
   "execution_count": 3,
   "metadata": {},
   "outputs": [],
   "source": [
    "trajectories, status = load_trajectories('data/MITxPRO+AMxB+1T2018/edges', 'data/MITxPRO+AMxB+1T2018/MITxPRO-AMxB-1T2018-auth_user-students.csv')\n",
    "#trajectories, status = load_trajectories('data/MITxPRO+LASERxB1+1T2019/LaaL', 'data/MITxPRO+LASERxB1+1T2019/MITxPRO-LASERxB1-1T2019-auth_user-students.csv')\n",
    "#trajectories = load_trajectories('data/MITxPRO+LASERxB1+1T2019/LaaL')\n",
    "#id_and_performance = pd.read_csv('data/MITxPRO-AMxB-1T2018/MITxPRO-AMxB-1T2018-auth_user-students.csv')\n",
    "#id_and_performance = pd.read_csv('data/MITxPRO+AMxB+1T2018/MITxPRO-AMxB-1T2018-auth_user-students.csv')\n",
    "#id_and_performance.iloc[0]\n",
    "#id_and_performance"
   ]
  },
  {
   "cell_type": "code",
   "execution_count": 4,
   "metadata": {},
   "outputs": [],
   "source": [
    "# node list of all students' learning pathway networks\n",
    "AM_nodelist = pd.read_csv('data/MITxPRO+AMxB+1T2018/MITxPRO+AMxB+1T2018-stdAgg-nodes-cohort.csv')\n",
    "url_id_to_url_hexname = dict(zip(AM_nodelist['order'], AM_nodelist['id']))\n",
    "#LaaL_nodelist = pd.read_csv('data/MITxPRO+LASERxB1+1T2019/MITxPRO+LASERxB1+1T2019-stdAgg-nodes.csv')\n",
    "#url_id_to_url_hexname = dict(zip(LaaL_nodelist['order'], LaaL_nodelist['name']))\n",
    "url_id_to_url_hexname[0] = 'done with course'\n",
    "def traj_to_edge_csv(traj, fname):\n",
    "    edges = []\n",
    "    urls = [url_id_to_url_hexname[url] for url in traj][1:-1]\n",
    "    for edge in zip(urls[:-1], urls[1:]):\n",
    "            # unpack those two items in the in the pair, and convert them from idex id\n",
    "            edges.append(edge)\n",
    "    df = pd.DataFrame(data=edges, columns = ['from', 'to'])\n",
    "    df.to_csv(fname, index=False)\n",
    "#traj_to_edge_csv(trajectories.iloc[0], 'test_traj')"
   ]
  },
  {
   "cell_type": "code",
   "execution_count": 5,
   "metadata": {},
   "outputs": [],
   "source": [
    "#AM_modules = pd.read_csv('data/MITxPRO+AMxB+1T2018/MITxPRO+AMxB+1T2018-modules.txt', sep='\\t', encoding='utf-16')\n"
   ]
  },
  {
   "cell_type": "code",
   "execution_count": 6,
   "metadata": {},
   "outputs": [
    {
     "name": "stdout",
     "output_type": "stream",
     "text": [
      "Maximum trajectory identified by number of clicks:  3483\n"
     ]
    },
    {
     "data": {
      "text/plain": [
       "Text(0, 0.5, 'Count of students')"
      ]
     },
     "execution_count": 6,
     "metadata": {},
     "output_type": "execute_result"
    },
    {
     "data": {
      "image/png": "[encoded data removed]",
      "text/plain": [
       "<Figure size 432x288 with 1 Axes>"
      ]
     },
     "metadata": {
      "needs_background": "light"
     },
     "output_type": "display_data"
    }
   ],
   "source": [
    "traj_lengths = trajectories.map(len).values\n",
    "plt.hist(traj_lengths)\n",
    "print(\"Maximum trajectory identified by number of clicks: \", max(traj_lengths))\n",
    "plt.title('AM course')\n",
    "plt.xlabel('Learner trajectory length identified by number of clicks')\n",
    "plt.ylabel('Count of students')"
   ]
  },
  {
   "cell_type": "markdown",
   "metadata": {},
   "source": [
    "## data generators "
   ]
  },
  {
   "cell_type": "code",
   "execution_count": 7,
   "metadata": {},
   "outputs": [
    {
     "data": {
      "text/plain": [
       "0.7597701149425288"
      ]
     },
     "execution_count": 7,
     "metadata": {},
     "output_type": "execute_result"
    }
   ],
   "source": [
    "index = np.arange(len(trajectories))\n",
    "np.random.seed(9)\n",
    "np.random.shuffle(index)\n",
    "\n",
    "incoming_traj = []\n",
    "outgoing_traj = []\n",
    "\n",
    "# this split assumes that we don't need to rebalance for unequal category weights\n",
    "n_valid = int(2*np.sqrt(len(trajectories)))\n",
    "n_train = len(trajectories) - n_valid\n",
    "success_rate = status[index[:n_train]].sum() / n_train\n",
    "\n",
    "for traj in trajectories.values:\n",
    "    incoming_traj.append(np.array(traj[:-1]).reshape(1,-1))\n",
    "    outgoing_traj.append(np.array(traj[1:]).reshape(-1,1))\n",
    "\n",
    "def data_generator(start, stop, use_status):\n",
    "     while True:\n",
    "        for i in range(start, stop):        \n",
    "            x = incoming_traj[index[i]].reshape(1,-1)\n",
    "            s = np.broadcast_to(status[index[i]], x.shape)\n",
    "            y = outgoing_traj[index[i]].reshape(1,-1)\n",
    "            if use_status:\n",
    "                yield [x,s],y\n",
    "            else:\n",
    "                yield x,y\n",
    "\n",
    "train_generator_simp = partial(data_generator, 0, n_train, False)\n",
    "valid_generator_simp = partial(data_generator, n_train, n_train+n_valid, False)\n",
    "train_generator_cond = partial(data_generator, 0, n_train, True)\n",
    "valid_generator_cond = partial(data_generator, n_train, n_train+n_valid, True)\n",
    "success_rate"
   ]
  },
  {
   "cell_type": "markdown",
   "metadata": {},
   "source": [
    "## Define models"
   ]
  },
  {
   "cell_type": "code",
   "execution_count": 8,
   "metadata": {},
   "outputs": [],
   "source": [
    "hidden_dim = 37\n",
    "embedding_dim = 30\n",
    "# turning trajectories into sets of URLs\n",
    "optimizer = Adam(learning_rate=0.001)\n",
    "number_of_URL = max(trajectories.sum()) + 1\n",
    "#number_of_URL = 1121"
   ]
  },
  {
   "cell_type": "code",
   "execution_count": 9,
   "metadata": {
    "scrolled": true
   },
   "outputs": [
    {
     "name": "stdout",
     "output_type": "stream",
     "text": [
      "Model: \"Simple_model\"\n",
      "_________________________________________________________________\n",
      "Layer (type)                 Output Shape              Param #   \n",
      "=================================================================\n",
      "history (InputLayer)         [(None, None)]            0         \n",
      "_________________________________________________________________\n",
      "URL_embedding (Embedding)    (None, None, 30)          22620     \n",
      "_________________________________________________________________\n",
      "LSTM (LSTM)                  (None, None, 37)          10064     \n",
      "_________________________________________________________________\n",
      "Predicted_URL (Dense)        (None, None, 754)         28652     \n",
      "=================================================================\n",
      "Total params: 61,336\n",
      "Trainable params: 61,336\n",
      "Non-trainable params: 0\n",
      "_________________________________________________________________\n"
     ]
    }
   ],
   "source": [
    "input_ = Input(shape=(None,), name='history')\n",
    "embed = Embedding(number_of_URL, embedding_dim, name='URL_embedding')(input_)\n",
    "\n",
    "rnn = LSTM(hidden_dim, return_sequences=True, name='LSTM')(embed)\n",
    "\n",
    "predicted_URL = Dense(number_of_URL, activation = 'softmax', name='Predicted_URL')(rnn)\n",
    "\n",
    "model_simp = Model(inputs=input_, outputs=predicted_URL, name='Simple_model')\n",
    "model_simp.compile(loss='sparse_categorical_crossentropy', optimizer=optimizer, metrics=['acc'])\n",
    "model_simp.summary()"
   ]
  },
  {
   "cell_type": "markdown",
   "metadata": {},
   "source": []
  },
  {
   "cell_type": "code",
   "execution_count": 10,
   "metadata": {},
   "outputs": [
    {
     "name": "stdout",
     "output_type": "stream",
     "text": [
      "Model: \"Conditional_model\"\n",
      "__________________________________________________________________________________________________\n",
      "Layer (type)                    Output Shape         Param #     Connected to                     \n",
      "==================================================================================================\n",
      "history (InputLayer)            [(None, None)]       0                                            \n",
      "__________________________________________________________________________________________________\n",
      "URL_embedding (Embedding)       (None, None, 30)     22620       history[0][0]                    \n",
      "__________________________________________________________________________________________________\n",
      "status (InputLayer)             [(None, None)]       0                                            \n",
      "__________________________________________________________________________________________________\n",
      "LSTM (LSTM)                     (None, None, 37)     10064       URL_embedding[0][0]              \n",
      "__________________________________________________________________________________________________\n",
      "Status_embedding (Embedding)    (None, None, 37)     74          status[0][0]                     \n",
      "__________________________________________________________________________________________________\n",
      "multiply (Multiply)             (None, None, 37)     0           LSTM[0][0]                       \n",
      "                                                                 Status_embedding[0][0]           \n",
      "__________________________________________________________________________________________________\n",
      "Predicted_URL (Dense)           (None, None, 754)    28652       multiply[0][0]                   \n",
      "==================================================================================================\n",
      "Total params: 61,410\n",
      "Trainable params: 61,410\n",
      "Non-trainable params: 0\n",
      "__________________________________________________________________________________________________\n"
     ]
    }
   ],
   "source": [
    "input_x = Input(shape=(None,), name='history')\n",
    "input_s = Input(shape=(None,), name='status')\n",
    "embed_x = Embedding(number_of_URL, embedding_dim, name='URL_embedding')(input_x)\n",
    "embed_s = Embedding(2, hidden_dim, embeddings_initializer='ones', name='Status_embedding')(input_s)\n",
    "\n",
    "rnn = LSTM(hidden_dim, return_sequences=True, name='LSTM')(embed_x)\n",
    "masked = Multiply()([rnn, embed_s])\n",
    "\n",
    "predicted_URL = Dense(number_of_URL, activation = 'softmax', name='Predicted_URL')(masked)\n",
    "\n",
    "model_cond = Model(inputs=[input_x, input_s], outputs=predicted_URL, name='Conditional_model')\n",
    "model_cond.compile(loss='sparse_categorical_crossentropy', optimizer=optimizer, metrics=['acc'])\n",
    "model_cond.summary()"
   ]
  },
  {
   "cell_type": "markdown",
   "metadata": {},
   "source": [
    "## Run models"
   ]
  },
  {
   "cell_type": "code",
   "execution_count": 12,
   "metadata": {},
   "outputs": [],
   "source": [
    "#model_simp.load_weights('weights/')\n",
    "model_cond.load_weights('AM_cond_hiddim37_02-.hdf5', by_name=True)"
   ]
  },
  {
   "cell_type": "code",
   "execution_count": null,
   "metadata": {},
   "outputs": [
    {
     "name": "stdout",
     "output_type": "stream",
     "text": [
      "WARNING:tensorflow:From <ipython-input-13-e3c22a5fe141>:10: Model.fit_generator (from tensorflow.python.keras.engine.training) is deprecated and will be removed in a future version.\n",
      "Instructions for updating:\n",
      "Please use Model.fit, which supports generators.\n",
      "WARNING:tensorflow:sample_weight modes were coerced from\n",
      "  ...\n",
      "    to  \n",
      "  ['...']\n",
      "WARNING:tensorflow:sample_weight modes were coerced from\n",
      "  ...\n",
      "    to  \n",
      "  ['...']\n",
      "Train for 870 steps, validate for 60 steps\n",
      "Epoch 1/150\n",
      "869/870 [============================>.] - ETA: 0s - loss: 1.4677 - acc: 0.6228\n",
      "Epoch 00001: val_loss improved from inf to 1.78683, saving model to AM_cond_hiddim37_02-.hdf5\n",
      "870/870 [==============================] - 287s 330ms/step - loss: 1.4672 - acc: 0.6229 - val_loss: 1.7868 - val_acc: 0.5852\n",
      "Epoch 2/150\n",
      "869/870 [============================>.] - ETA: 0s - loss: 1.4655 - acc: 0.6228\n",
      "Epoch 00002: val_loss did not improve from 1.78683\n",
      "870/870 [==============================] - 280s 322ms/step - loss: 1.4649 - acc: 0.6229 - val_loss: 1.7871 - val_acc: 0.5854\n",
      "Epoch 3/150\n",
      "869/870 [============================>.] - ETA: 0s - loss: 1.4646 - acc: 0.6230\n",
      "Epoch 00003: val_loss did not improve from 1.78683\n",
      "870/870 [==============================] - 279s 321ms/step - loss: 1.4641 - acc: 0.6232 - val_loss: 1.7871 - val_acc: 0.5857\n",
      "Epoch 4/150\n",
      "869/870 [============================>.] - ETA: 0s - loss: 1.4639 - acc: 0.6231\n",
      "Epoch 00004: val_loss did not improve from 1.78683\n",
      "870/870 [==============================] - 281s 323ms/step - loss: 1.4633 - acc: 0.6232 - val_loss: 1.7873 - val_acc: 0.5854\n",
      "Epoch 5/150\n",
      "869/870 [============================>.] - ETA: 0s - loss: 1.4631 - acc: 0.6233\n",
      "Epoch 00005: val_loss did not improve from 1.78683\n",
      "870/870 [==============================] - 280s 322ms/step - loss: 1.4626 - acc: 0.6234 - val_loss: 1.7871 - val_acc: 0.5859\n",
      "Epoch 6/150\n",
      "869/870 [============================>.] - ETA: 0s - loss: 1.4624 - acc: 0.6233\n",
      "Epoch 00006: val_loss did not improve from 1.78683\n",
      "870/870 [==============================] - 281s 323ms/step - loss: 1.4619 - acc: 0.6234 - val_loss: 1.7875 - val_acc: 0.5856\n",
      "Epoch 7/150\n",
      "869/870 [============================>.] - ETA: 0s - loss: 1.4618 - acc: 0.6234\n",
      "Epoch 00007: val_loss did not improve from 1.78683\n",
      "870/870 [==============================] - 281s 323ms/step - loss: 1.4613 - acc: 0.6235 - val_loss: 1.7874 - val_acc: 0.5858\n",
      "Epoch 8/150\n",
      "869/870 [============================>.] - ETA: 0s - loss: 1.4611 - acc: 0.6235\n",
      "Epoch 00008: val_loss did not improve from 1.78683\n",
      "870/870 [==============================] - 281s 323ms/step - loss: 1.4606 - acc: 0.6237 - val_loss: 1.7874 - val_acc: 0.5855\n",
      "Epoch 9/150\n",
      "869/870 [============================>.] - ETA: 0s - loss: 1.4604 - acc: 0.6236\n",
      "Epoch 00009: val_loss did not improve from 1.78683\n",
      "870/870 [==============================] - 283s 325ms/step - loss: 1.4598 - acc: 0.6237 - val_loss: 1.7876 - val_acc: 0.5856\n",
      "Epoch 10/150\n",
      "869/870 [============================>.] - ETA: 0s - loss: 1.4597 - acc: 0.6236\n",
      "Epoch 00010: val_loss did not improve from 1.78683\n",
      "870/870 [==============================] - 281s 323ms/step - loss: 1.4592 - acc: 0.6238 - val_loss: 1.7879 - val_acc: 0.5858\n",
      "Epoch 11/150\n",
      "869/870 [============================>.] - ETA: 0s - loss: 1.4591 - acc: 0.6237\n",
      "Epoch 00011: val_loss did not improve from 1.78683\n",
      "870/870 [==============================] - 281s 323ms/step - loss: 1.4586 - acc: 0.6239 - val_loss: 1.7881 - val_acc: 0.5856\n",
      "Epoch 12/150\n",
      "869/870 [============================>.] - ETA: 0s - loss: 1.4585 - acc: 0.6238\n",
      "Epoch 00012: val_loss did not improve from 1.78683\n",
      "870/870 [==============================] - 281s 323ms/step - loss: 1.4579 - acc: 0.6240 - val_loss: 1.7881 - val_acc: 0.5859\n",
      "Epoch 13/150\n",
      "869/870 [============================>.] - ETA: 0s - loss: 1.4579 - acc: 0.6240\n",
      "Epoch 00013: val_loss did not improve from 1.78683\n",
      "870/870 [==============================] - 281s 323ms/step - loss: 1.4574 - acc: 0.6241 - val_loss: 1.7883 - val_acc: 0.5856\n",
      "Epoch 14/150\n",
      "869/870 [============================>.] - ETA: 0s - loss: 1.4573 - acc: 0.6241\n",
      "Epoch 00014: val_loss did not improve from 1.78683\n",
      "870/870 [==============================] - 284s 326ms/step - loss: 1.4568 - acc: 0.6243 - val_loss: 1.7885 - val_acc: 0.5861\n",
      "Epoch 15/150\n",
      "869/870 [============================>.] - ETA: 0s - loss: 1.4567 - acc: 0.6242\n",
      "Epoch 00015: val_loss did not improve from 1.78683\n",
      "870/870 [==============================] - 282s 324ms/step - loss: 1.4561 - acc: 0.6244 - val_loss: 1.7884 - val_acc: 0.5860\n",
      "Epoch 16/150\n",
      "869/870 [============================>.] - ETA: 0s - loss: 1.4561 - acc: 0.6243\n",
      "Epoch 00016: val_loss did not improve from 1.78683\n",
      "870/870 [==============================] - 283s 325ms/step - loss: 1.4556 - acc: 0.6244 - val_loss: 1.7885 - val_acc: 0.5861\n",
      "Epoch 17/150\n",
      "869/870 [============================>.] - ETA: 0s - loss: 1.4556 - acc: 0.6243\n",
      "Epoch 00017: val_loss did not improve from 1.78683\n",
      "870/870 [==============================] - 281s 323ms/step - loss: 1.4551 - acc: 0.6245 - val_loss: 1.7888 - val_acc: 0.5864\n",
      "Epoch 18/150\n",
      "869/870 [============================>.] - ETA: 0s - loss: 1.4551 - acc: 0.6244\n",
      "Epoch 00018: val_loss did not improve from 1.78683\n",
      "870/870 [==============================] - 281s 323ms/step - loss: 1.4545 - acc: 0.6246 - val_loss: 1.7889 - val_acc: 0.5859\n",
      "Epoch 19/150\n",
      "869/870 [============================>.] - ETA: 0s - loss: 1.4544 - acc: 0.6245\n",
      "Epoch 00019: val_loss did not improve from 1.78683\n",
      "870/870 [==============================] - 281s 323ms/step - loss: 1.4539 - acc: 0.6247 - val_loss: 1.7889 - val_acc: 0.5861\n",
      "Epoch 20/150\n",
      "789/870 [==========================>...] - ETA: 25s - loss: 1.4544 - acc: 0.6242"
     ]
    }
   ],
   "source": [
    "filepath=\"AM_cond_hiddim37_02-.hdf5\"\n",
    "checkpoint = ModelCheckpoint(filepath, monitor='val_loss', verbose=1, save_best_only=True, mode='min')\n",
    "callbacks_list = [checkpoint]\n",
    "model_cond.fit_generator(train_generator_cond(), \n",
    "                    validation_data=valid_generator_cond(),\n",
    "                    callbacks=callbacks_list,\n",
    "                    steps_per_epoch = n_train, #batch size is inherently 1 via generator\n",
    "                    validation_steps= n_valid,\n",
    "                    epochs=150,\n",
    "                    verbose=1,)"
   ]
  },
  {
   "cell_type": "markdown",
   "metadata": {},
   "source": [
    "## Sample trajectory creation "
   ]
  },
  {
   "cell_type": "code",
   "execution_count": null,
   "metadata": {},
   "outputs": [],
   "source": [
    "proposed_traj = [0]\n",
    "visit_count = defaultdict(int)\n",
    "max_allowed_visits = 25\n",
    "\n",
    "while len(proposed_traj) < 1000 and (len(proposed_traj) == 1 or proposed_traj[-1] != 0):\n",
    "    x = np.array(proposed_traj).reshape(1,-1)\n",
    "    #run with s = np.ones(x.shpae) for successful\n",
    "    s = np.zeros(x.shape)\n",
    "    for url in reversed(np.argsort(model_cond.predict([x,s])[0,-1])):\n",
    "    #for url in reversed(np.argsort(model_simp.predict(x)[0,-1])):\n",
    "        if visit_count[url] < max_allowed_visits:\n",
    "            proposed_traj.append(url)\n",
    "            visit_count[url] += 1\n",
    "            break\n",
    "    #predicted = np.argmax(model.predict(x)[0,-1])\n",
    "    print(url)\n",
    "    \n",
    "# print(proposed_traj)\n",
    "\n",
    "# cert_traj = pd.DataFrame(proposed_traj)\n",
    "# cert_traj.to_csv('LaaL_simp_traj_hid_dim37.csv', header = ['simple trajectory'], index = False)\n",
    "traj_to_edge_csv(proposed_traj, 'MITxPRO+LASERxB1+1T2019_simulated_unsuccessfulEXTRA_Hdim37.csv')"
   ]
  },
  {
   "cell_type": "code",
   "execution_count": null,
   "metadata": {},
   "outputs": [],
   "source": [
    "# # this is to pull out the \"recommended traj\" \n",
    "# proposed_traj = [0]\n",
    "# visit_count = defaultdict(int)\n",
    "# max_allowed_visits = 25\n",
    "\n",
    "# while len(proposed_traj) < 1000 and (len(proposed_traj) == 1 or proposed_traj[-1] != 0):\n",
    "#     x = np.array(proposed_traj).reshape(1,-1)\n",
    "#     #run with s = np.ones(x.shpae) for successful\n",
    "#     s = np.ones(x.shape)\n",
    "#     u = np.zeros(x.shape)\n",
    "#     pred_s = model_cond.predict([x,s])[0,-1]\n",
    "#     pred_u = model_cond.predict([x,u])[0,-1]\n",
    "#     for url in reversed(np.argsort(pred_s - pred_u)):\n",
    "#         if visit_count[url] < max_allowed_visits:\n",
    "#             proposed_traj.append(url)\n",
    "#             visit_count[url] += 1\n",
    "#             break\n",
    "#     #predicted = np.argmax(model.predict(x)[0,-1])\n",
    "#     print(url)\n",
    "    \n",
    "# # print(proposed_traj)\n",
    "\n",
    "# # cert_traj = pd.DataFrame(proposed_traj)\n",
    "# # cert_traj.to_csv('LaaL_simp_traj_hid_dim37.csv', header = ['simple trajectory'], index = False)\n",
    "# traj_to_edge_csv(proposed_traj, 'MITxPRO+AMxB+1T2018_simulated_RECOMMENDEDsuccessful_Hdim60.csv')"
   ]
  },
  {
   "cell_type": "markdown",
   "metadata": {},
   "source": [
    "## Probability estimation"
   ]
  },
  {
   "cell_type": "code",
   "execution_count": null,
   "metadata": {},
   "outputs": [],
   "source": [
    "def score_traj(sample_traj):\n",
    "    x = np.array(sample_traj[:-1]).reshape(1,-1)\n",
    "    successful = np.ones(x.shape)\n",
    "    unsuccessful = np.zeros(x.shape)\n",
    "    cond_prob_successful = np.array(model_cond([x, successful])).reshape(-1, number_of_URL)\n",
    "    cond_prob_unsuccessful = np.array(model_cond([x, unsuccessful])).reshape(-1, number_of_URL)\n",
    "\n",
    "    score_s = []\n",
    "    score_u = []\n",
    "\n",
    "    for choice, prob_s, prob_u in zip(sample_traj[1:], cond_prob_successful, cond_prob_unsuccessful):\n",
    "        score_s.append(np.log(prob_s[choice]))\n",
    "        score_u.append(np.log(prob_u[choice]))\n",
    "    return score_s, score_u"
   ]
  },
  {
   "cell_type": "code",
   "execution_count": null,
   "metadata": {},
   "outputs": [],
   "source": [
    "def predict_success(traj):\n",
    "    score_s, score_u = score_traj(traj)\n",
    "    evidence_s = np.log(success_rate) + np.sum(score_s)\n",
    "    evidence_u = np.log(1 - success_rate) + np.sum(score_u)\n",
    "    prob_of_success = 1 / (1 + np.exp(evidence_u - evidence_s))\n",
    "    return prob_of_success"
   ]
  },
  {
   "cell_type": "code",
   "execution_count": null,
   "metadata": {},
   "outputs": [],
   "source": [
    "y_true = []\n",
    "y_pred = []\n",
    "\n",
    "for i in range(n_train, n_train+n_valid):\n",
    "    user = index[i]\n",
    "    traj = trajectories.iloc[user]\n",
    "    y_true.append(status[user])\n",
    "    y_pred.append(predict_success(traj))"
   ]
  },
  {
   "cell_type": "code",
   "execution_count": null,
   "metadata": {},
   "outputs": [],
   "source": [
    "print(list(zip(y_true,y_pred)))\n",
    "df = pd.DataFrame(confusion_matrix(y_true, np.round(y_pred)))\n",
    "df.columns = ['Predicted unsuccessful', 'Predicted successful']\n",
    "df.index = ['Actual unsuccessful', 'Actual successful']\n",
    "df\n",
    "# columns are predictions, rows are true"
   ]
  },
  {
   "cell_type": "code",
   "execution_count": null,
   "metadata": {},
   "outputs": [],
   "source": [
    "for i in range(75):\n",
    "    score_s, score_u = score_traj(trajectories.iloc[i])\n",
    "    score_s = np.array(score_s)\n",
    "    score_u = np.array(score_u)\n",
    "    score_delta = (score_s - score_u)[:-1]\n",
    "    plt.scatter(trajectories.iloc[i][1:-1], score_delta)\n",
    "    plt.xlabel('Learner URL selection')\n",
    "    plt.ylabel('Evidence suggesting successful or unsuccessful')\n",
    "    #plt.title('title')\n",
    "    plt.show()\n",
    "    \n",
    "    traj_pos = np.argmin(score_delta)\n",
    "    url = trajectories.iloc[i][traj_pos + 1]\n",
    "    if score_delta[traj_pos] < -0.3:\n",
    "        print(url)\n",
    "    print(url, score_s[traj_pos], score_u[traj_pos])\n",
    "    print(trajectories.iloc[i][:traj_pos + 1])\n",
    "    "
   ]
  },
  {
   "cell_type": "code",
   "execution_count": null,
   "metadata": {},
   "outputs": [],
   "source": [
    "# url_of_interest = 68\n",
    "# for i in range(100):\n",
    "#     if url_of_interest in trajectories.iloc[i]:\n",
    "#         score_s, score_u = score_traj(trajectories.iloc[i])\n",
    "#         score_s = np.array(score_s)\n",
    "#         score_u = np.array(score_u)\n",
    "#         score_delta = (score_s - score_u)[:-1]\n",
    "        \n",
    "#         url_scores = []\n",
    "#         for j, url in enumerate(trajectories.iloc[i]):\n",
    "#             if url == url_of_interest:\n",
    "#                 url_scores.append(score_delta[j-1])\n",
    "# plt.hist(url_scores)"
   ]
  },
  {
   "cell_type": "code",
   "execution_count": null,
   "metadata": {},
   "outputs": [],
   "source": [
    "fpr, tpr, _ = roc_curve(y_true, y_pred)\n",
    "auc_score = roc_auc_score(y_true, y_pred)\n",
    "plt.plot(fpr, tpr)\n",
    "\n",
    "plt.plot(fpr, tpr, color='darkorange', label='ROC curve (area = %0.2f)' % (auc_score))\n",
    "plt.plot([0, 1], [0, 1], color='navy', lw=2, linestyle='--')\n",
    "plt.xlim([0.0, 1.0])\n",
    "plt.ylim([0.0, 1.05])\n",
    "plt.xlabel('False Positive Rate')\n",
    "plt.ylabel('True Positive Rate')\n",
    "#plt.title('Strategy, Products, Capability Work, and Teams ROC plot')\n",
    "plt.legend(loc=\"lower right\")\n",
    "plt.show()\n",
    "\n",
    "# fpr = dict()\n",
    "# tpr = dict()\n",
    "# roc_auc = dict()\n",
    "\n",
    "# fpr[i], tpr[i], _ = roc_curve(y_true[:, i], y_pred[:, i])\n",
    "# roc_auc[i] = auc(fpr[i], tpr[i])\n",
    "# # Compute micro-average ROC curve and ROC area\n",
    "# fpr[\"micro\"], tpr[\"micro\"], _ = roc_curve(y_true.ravel(), y_pred.ravel())\n",
    "# roc_auc[\"micro\"] = auc(fpr[\"micro\"], tpr[\"micro\"])"
   ]
  },
  {
   "cell_type": "code",
   "execution_count": null,
   "metadata": {},
   "outputs": [],
   "source": [
    "# # user list key - session level\n",
    "# AM_userList = pd.read_csv('edx-learnerpathway-modeling/data/MITxPRO+AMxB+1T2018/MITxPRO+AMxB+1T2018-stdAgg-userList-key-sessionLevel.csv')\n",
    "# AM_userList\n",
    "\n",
    "# # learning pathway network edge lists - edge list for each student in the course that represent a directed \n",
    "# # transitions networks  of students pathway through the courses content modules.  this is all students.\n",
    "# AM_edgelist = pd.read_csv('edx-learnerpathway-modeling/data/MITxPRO+AMxB+1T2018/MITxPRO+AMxB+1T2018-stdAgg-edges-cohort.csv')\n",
    "# AM_edgelist[:5]"
   ]
  },
  {
   "cell_type": "code",
   "execution_count": null,
   "metadata": {},
   "outputs": [],
   "source": [
    "incoming_traj[0].shape"
   ]
  },
  {
   "cell_type": "code",
   "execution_count": null,
   "metadata": {},
   "outputs": [],
   "source": [
    "model.predict([0,1,3,4,5,6])[0,-1].tolist()"
   ]
  },
  {
   "cell_type": "code",
   "execution_count": null,
   "metadata": {},
   "outputs": [],
   "source": [
    "x = np.array([0,1,2,3,4,5,6]).reshape(1,-1)\n",
    "s = np.zeros(x.shape)\n",
    "model2.predict([x,s])[0,-1].tolist()"
   ]
  },
  {
   "cell_type": "code",
   "execution_count": null,
   "metadata": {},
   "outputs": [],
   "source": [
    "np.argsort([7,5,1,2])"
   ]
  },
  {
   "cell_type": "code",
   "execution_count": null,
   "metadata": {},
   "outputs": [],
   "source": [
    "# appendix to the node list that provides a set of XY coordinates to generate a common layout for all networks \n",
    "# produced in the analysis.  force atlas with parameterization <- what is this?\n",
    "AM_node_coord = pd.read_csv('edx-learnerpathway-modeling/data/MITxPRO+AMxB+1T2018/MITxPRO+AMxB+1T2018-stdAgg-nodes-coordinates-FA2.csv')\n",
    "AM_node_coord[:5]"
   ]
  },
  {
   "cell_type": "code",
   "execution_count": null,
   "metadata": {},
   "outputs": [],
   "source": [
    "# student identifiers and performance statistics, certification, and enrollment data\n",
    "AM_id_and_performance = pd.read_csv('data/MITxPRO+AMxB+1T2018/MITxPRO-AMxB-1T2018-auth_user-students.csv')\n",
    "AM_id_and_performance['certGrp'].unique()"
   ]
  },
  {
   "cell_type": "code",
   "execution_count": null,
   "metadata": {},
   "outputs": [],
   "source": [
    "# meta data includes the course title, run dates\n",
    "LaaL_meta = pd.read_csv('data/MITxPRO+LASERxB1+1T2019/MITxPRO+LASERxB1+1T2019-meta.csv')\n",
    "LaaL_meta"
   ]
  },
  {
   "cell_type": "code",
   "execution_count": null,
   "metadata": {
    "scrolled": true
   },
   "outputs": [],
   "source": [
    "# complete course structure and module descriptions\n",
    "# list of student identifiers and performance statistics, certification, and enrollment data\n",
    "\n",
    "# LaaL_edgelist = pd.read_csv('data/MITxPRO+LASERxB1+1T2019/MITxPRO+LASERxB1+1T2019-modules.csv')\n",
    "# LaaL_edgelist\n",
    "\n",
    "LaaL_modules = pd.read_csv('data/MITxPRO+LASERxB1+1T2019/MITxPRO+LASERxB1+1T2019-modules00.csv')\n",
    "len(LaaL_modules)\n",
    "LaaL_modules[460:470]"
   ]
  },
  {
   "cell_type": "code",
   "execution_count": null,
   "metadata": {},
   "outputs": [],
   "source": [
    "LaaL_edelist = pd.read_csv('data/MITxPRO+LASERxB1+1T2019/MITxPRO+LASERxB1+1T2019-stdAgg-edges.csv')\n",
    "LaaL_edelist[:5]"
   ]
  },
  {
   "cell_type": "code",
   "execution_count": null,
   "metadata": {},
   "outputs": [],
   "source": [
    "LaaL_nodelist = pd.read_csv('data/MITxPRO+LASERxB1+1T2019/MITxPRO+LASERxB1+1T2019-stdAgg-nodes.csv')\n",
    "LaaL_nodelist[:5]"
   ]
  },
  {
   "cell_type": "code",
   "execution_count": null,
   "metadata": {},
   "outputs": [],
   "source": [
    "AM_nodelist = pd.read_csv('data/MITxPRO+AMxB+1T2018/MITxPRO+AMxB+1T2018-stdAgg-nodes-cohort.csv')\n",
    "AM_nodelist"
   ]
  },
  {
   "cell_type": "code",
   "execution_count": null,
   "metadata": {},
   "outputs": [],
   "source": [
    "LaaL_node_coord = pd.read_csv('data/MITxPRO+LASERxB1+1T2019/MITxPRO+LASERxB1+1T2019-stdAgg-nodes-coordinates-FA2.csv')\n",
    "LaaL_node_coord[:5]"
   ]
  },
  {
   "cell_type": "code",
   "execution_count": null,
   "metadata": {},
   "outputs": [],
   "source": [
    "LaaL_id_and_performance = pd.read_csv('data/MITxPRO+LASERxB1+1T2019/MITxPRO-LASERxB1-1T2019-auth_user-students.csv')\n",
    "LaaL_id_and_performance[:5]\n",
    "\n",
    "count = LaaL_id_and_performance[LaaL_id_and_performance['certGrp']== 'Certified (< 65% Grade)']\n",
    "len(count)"
   ]
  },
  {
   "cell_type": "code",
   "execution_count": null,
   "metadata": {},
   "outputs": [],
   "source": []
  },
  {
   "cell_type": "code",
   "execution_count": null,
   "metadata": {},
   "outputs": [],
   "source": []
  }
 ],
 "metadata": {
  "kernelspec": {
   "display_name": "Python 3",
   "language": "python",
   "name": "python3"
  },
  "language_info": {
   "codemirror_mode": {
    "name": "ipython",
    "version": 3
   },
   "file_extension": ".py",
   "mimetype": "text/x-python",
   "name": "python",
   "nbconvert_exporter": "python",
   "pygments_lexer": "ipython3",
   "version": "3.7.6"
  }
 },
 "nbformat": 4,
 "nbformat_minor": 4
}
