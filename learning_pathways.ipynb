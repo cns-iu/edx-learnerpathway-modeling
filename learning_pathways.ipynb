{
 "cells": [
  {
   "cell_type": "code",
   "execution_count": 1,
   "metadata": {},
   "outputs": [],
   "source": [
    "import pandas as pd\n",
    "import numpy as np\n",
    "import matplotlib.pyplot as plt\n",
    "import os\n",
    "import statistics as stat\n",
    "import networkx as nx\n",
    "import tensorflow as tf\n",
    "import tensorflow.keras as keras\n",
    "from tensorflow.keras.callbacks import ModelCheckpoint\n",
    "from tensorflow.keras.layers import LSTM, Dense, Input, Embedding, Reshape, Multiply\n",
    "from tensorflow.keras.optimizers import Adam\n",
    "from tensorflow.keras.models import Model\n",
    "from glob import glob\n",
    "from data_parsing import load_trajectories"
   ]
  },
  {
   "cell_type": "code",
   "execution_count": 2,
   "metadata": {},
   "outputs": [],
   "source": [
    "trajectories = load_trajectories('data/MITxPRO+AMxB+1T2018/edges')"
   ]
  },
  {
   "cell_type": "code",
   "execution_count": 3,
   "metadata": {},
   "outputs": [
    {
     "data": {
      "text/html": [
       "<div>\n",
       "<style scoped>\n",
       "    .dataframe tbody tr th:only-of-type {\n",
       "        vertical-align: middle;\n",
       "    }\n",
       "\n",
       "    .dataframe tbody tr th {\n",
       "        vertical-align: top;\n",
       "    }\n",
       "\n",
       "    .dataframe thead th {\n",
       "        text-align: right;\n",
       "    }\n",
       "</style>\n",
       "<table border=\"1\" class=\"dataframe\">\n",
       "  <thead>\n",
       "    <tr style=\"text-align: right;\">\n",
       "      <th></th>\n",
       "      <th>id</th>\n",
       "      <th>metadata.display_name</th>\n",
       "      <th>category</th>\n",
       "      <th>metadata.start</th>\n",
       "      <th>metadata.end</th>\n",
       "      <th>metadata.enrollment_start</th>\n",
       "      <th>metadata.enrollment_end</th>\n",
       "    </tr>\n",
       "  </thead>\n",
       "  <tbody>\n",
       "    <tr>\n",
       "      <th>0</th>\n",
       "      <td>MITxPRO+AMxB+1T2018</td>\n",
       "      <td>Additive Manufacturing for Innovative Design a...</td>\n",
       "      <td>course</td>\n",
       "      <td>2018-04-30 04:00:00</td>\n",
       "      <td>2018-07-02 23:30:00</td>\n",
       "      <td>2018-03-06</td>\n",
       "      <td>2018-05-11 23:30:00</td>\n",
       "    </tr>\n",
       "  </tbody>\n",
       "</table>\n",
       "</div>"
      ],
      "text/plain": [
       "                    id                              metadata.display_name  \\\n",
       "0  MITxPRO+AMxB+1T2018  Additive Manufacturing for Innovative Design a...   \n",
       "\n",
       "  category       metadata.start         metadata.end  \\\n",
       "0   course  2018-04-30 04:00:00  2018-07-02 23:30:00   \n",
       "\n",
       "  metadata.enrollment_start metadata.enrollment_end  \n",
       "0                2018-03-06     2018-05-11 23:30:00  "
      ]
     },
     "execution_count": 3,
     "metadata": {},
     "output_type": "execute_result"
    }
   ],
   "source": [
    "# meta data includes the course title, run dates\n",
    "AM_meta = pd.read_csv('data/MITxPRO+AMxB+1T2018/MITxPRO+AMxB+1T2018-meta.csv')\n",
    "AM_meta"
   ]
  },
  {
   "cell_type": "code",
   "execution_count": 4,
   "metadata": {},
   "outputs": [],
   "source": [
    "# complete course structure and module descriptions\n",
    "# list of student identifiers and performance statistics, certification, and enrollment data\n",
    "# problem UTF-encoding error\n",
    "\n",
    "AM_modules = pd.read_csv('data/MITxPRO+AMxB+1T2018/MITxPRO+AMxB+1T2018-modules.txt', sep='\\t', encoding='utf-16')"
   ]
  },
  {
   "cell_type": "code",
   "execution_count": 5,
   "metadata": {},
   "outputs": [],
   "source": [
    "# session level edge data\n",
    "AM_edges_sessionLevel01 = pd.read_csv('data/MITxPRO+AMxB+1T2018/edges/MITxPRO+AMxB+1T2018-stdAgg-edgeList-sessionLevel-1.csv')\n",
    "#AM_edges_sessionLevel01[AM_edges_sessionLevel01['user_id'] == 15779327][100:150"
   ]
  },
  {
   "cell_type": "code",
   "execution_count": 6,
   "metadata": {},
   "outputs": [
    {
     "data": {
      "text/plain": [
       "3483"
      ]
     },
     "execution_count": 6,
     "metadata": {},
     "output_type": "execute_result"
    },
    {
     "data": {
      "image/png": "[encoded data removed]",
      "text/plain": [
       "<Figure size 432x288 with 1 Axes>"
      ]
     },
     "metadata": {
      "needs_background": "light"
     },
     "output_type": "display_data"
    }
   ],
   "source": [
    "# # for each student this is list of numerical id's for the URLs - removing duplicates\n",
    "# def get_trajectory(df):\n",
    "#     order = [0]\n",
    "#     for url in df['order']:\n",
    "#         if url != order[-1]:\n",
    "#             order.append(url)\n",
    "#     order.append(0)\n",
    "#     return order\n",
    "\n",
    "# trajectories = []\n",
    "\n",
    "# for fname in glob('data/MITxPRO+AMxB+1T2018/edges/*.csv'):\n",
    "#     df = pd.read_csv(fname)\n",
    "#     trajectories.append(df)\n",
    "    \n",
    "# trajectories = pd.concat(trajectories)\n",
    "# trajectories = trajectories.groupby('user_id').apply(get_trajectory)\n",
    "traj_lengths = trajectories.map(len).values\n",
    "\n",
    "plt.hist(traj_lengths)\n",
    "max(traj_lengths)\n",
    "#trajectories[:25]"
   ]
  },
  {
   "cell_type": "code",
   "execution_count": 7,
   "metadata": {},
   "outputs": [],
   "source": [
    "incoming_traj = []\n",
    "outgoing_traj = []\n",
    "n_train = 800\n",
    "n_valid = 130\n",
    "\n",
    "for traj in trajectories.values:\n",
    "    incoming_traj.append(np.array(traj[:-1]).reshape(1,-1))\n",
    "    outgoing_traj.append(np.array(traj[1:]).reshape(-1,1))\n",
    "\n",
    "index = np.arange(len(trajectories))\n",
    "np.random.seed(9)\n",
    "np.random.shuffle(index)\n",
    "    \n",
    "def train_generator():\n",
    "    while True:\n",
    "        for i in range(0, n_train):\n",
    "            x = incoming_traj[index[i]].reshape(1,-1)\n",
    "            y = outgoing_traj[index[i]].reshape(1,-1)\n",
    "            yield x,y\n",
    "            \n",
    "def valid_generator():\n",
    "    while True:\n",
    "        for i in range(n_train, n_train+n_valid):\n",
    "            x = incoming_traj[index[i]].reshape(1,-1)\n",
    "            y = outgoing_traj[index[i]].reshape(1,-1)\n",
    "            yield x,y"
   ]
  },
  {
   "cell_type": "code",
   "execution_count": null,
   "metadata": {},
   "outputs": [],
   "source": []
  },
  {
   "cell_type": "code",
   "execution_count": 8,
   "metadata": {
    "scrolled": true
   },
   "outputs": [
    {
     "name": "stdout",
     "output_type": "stream",
     "text": [
      "Model: \"model\"\n",
      "_________________________________________________________________\n",
      "Layer (type)                 Output Shape              Param #   \n",
      "=================================================================\n",
      "input_1 (InputLayer)         [(None, None)]            0         \n",
      "_________________________________________________________________\n",
      "URL_embedding (Embedding)    (None, None, 30)          33630     \n",
      "_________________________________________________________________\n",
      "LSTM (LSTM)                  (None, None, 30)          7320      \n",
      "_________________________________________________________________\n",
      "Predicted_URL (Dense)        (None, None, 1121)        34751     \n",
      "=================================================================\n",
      "Total params: 75,701\n",
      "Trainable params: 75,701\n",
      "Non-trainable params: 0\n",
      "_________________________________________________________________\n"
     ]
    }
   ],
   "source": [
    "hidden_dim = 30\n",
    "embedding_dim = 30\n",
    "number_of_URL = 1121\n",
    "optimizer = Adam(learning_rate=0.0001)\n",
    "\n",
    "input_ = Input(shape=(None,))\n",
    "embed = Embedding(number_of_URL, embedding_dim, name='URL_embedding')(input_)\n",
    "\n",
    "rnn = LSTM(hidden_dim, return_sequences=True, name='LSTM')(embed)\n",
    "\n",
    "predicted_URL = Dense(number_of_URL, activation = 'softmax', name='Predicted_URL')(rnn)\n",
    "\n",
    "model = Model(inputs=input_, outputs=predicted_URL)\n",
    "model.compile(loss='sparse_categorical_crossentropy', optimizer=optimizer, metrics=['acc'])\n",
    "model.summary()"
   ]
  },
  {
   "cell_type": "code",
   "execution_count": null,
   "metadata": {},
   "outputs": [],
   "source": [
    "incoming_traj = []\n",
    "outgoing_traj = []\n",
    "n_train = 800\n",
    "n_valid = 130\n",
    "\n",
    "for traj in trajectories.values:\n",
    "    incoming_traj.append(np.array(traj[:-1]).reshape(1,-1))\n",
    "    outgoing_traj.append(np.array(traj[1:]).reshape(-1,1))\n",
    "\n",
    "#add data for pass/fail to status\n",
    "AM_id_and_performance = pd.read_csv('data/MITxPRO+AMxB+1T2018/MITxPRO-AMxB-1T2018-auth_user-students.csv')\n",
    "status = np.where(AM_id_and_performance['certGrp']=='Certified (< 70% Grade)', 1, 0)\n",
    "#status = np.where(AM_id_and_performance['certGrp']=='Certified (< 70% Grade)')\n",
    "    \n",
    "index = np.arange(len(trajectories))\n",
    "np.random.seed(9)\n",
    "np.random.shuffle(index)\n",
    "    \n",
    "def train_generator2():\n",
    "    while True:\n",
    "        for i in range(0, n_train):\n",
    "            x = incoming_traj[index[i]].reshape(1,-1)\n",
    "            s = np.broadcast_to(status[index[i]], x.shape)\n",
    "            #s = status[index[i]].reshape(1,-1)\n",
    "            y = outgoing_traj[index[i]].reshape(1,-1)\n",
    "            yield [x,s],y\n",
    "            \n",
    "def valid_generator2():\n",
    "    while True:\n",
    "        for i in range(n_train, n_train+n_valid):\n",
    "            x = incoming_traj[index[i]].reshape(1,-1)\n",
    "            s = np.broadcast_to(status[index[i]], x.shape)\n",
    "            #status[index[i]].reshape(1,-1)\n",
    "            y = outgoing_traj[index[i]].reshape(1,-1)\n",
    "            yield [x,s],y"
   ]
  },
  {
   "cell_type": "code",
   "execution_count": null,
   "metadata": {},
   "outputs": [],
   "source": [
    "hidden_dim = 30\n",
    "embedding_dim = 30\n",
    "number_of_URL = 1121\n",
    "optimizer = Adam(learning_rate=0.0001)\n",
    "\n",
    "input_x = Input(shape=(None,))\n",
    "input_s = Input(shape=(None,))\n",
    "embed_x = Embedding(number_of_URL, embedding_dim, name='URL_embedding')(input_x)\n",
    "embed_s = Embedding(2, hidden_dim, embeddings_initializer='ones', name='Status_embedding')(input_s)\n",
    "\n",
    "rnn = LSTM(hidden_dim, return_sequences=True, name='LSTM')(embed_x)\n",
    "masked = Multiply()([rnn, embed_s])\n",
    "\n",
    "predicted_URL = Dense(number_of_URL, activation = 'softmax', name='Predicted_URL')(masked)\n",
    "\n",
    "model2 = Model(inputs=[input_x, input_s], outputs=predicted_URL)\n",
    "model2.compile(loss='sparse_categorical_crossentropy', optimizer=optimizer, metrics=['acc'])\n",
    "model2.summary()"
   ]
  },
  {
   "cell_type": "code",
   "execution_count": null,
   "metadata": {},
   "outputs": [],
   "source": [
    "#model.save_weights('weights_version01.h5')"
   ]
  },
  {
   "cell_type": "code",
   "execution_count": null,
   "metadata": {},
   "outputs": [
    {
     "name": "stdout",
     "output_type": "stream",
     "text": [
      "WARNING:tensorflow:From <ipython-input-9-348edf525da3>:11: Model.fit_generator (from tensorflow.python.keras.engine.training) is deprecated and will be removed in a future version.\n",
      "Instructions for updating:\n",
      "Please use Model.fit, which supports generators.\n",
      "WARNING:tensorflow:sample_weight modes were coerced from\n",
      "  ...\n",
      "    to  \n",
      "  ['...']\n",
      "WARNING:tensorflow:sample_weight modes were coerced from\n",
      "  ...\n",
      "    to  \n",
      "  ['...']\n",
      "Train for 800 steps, validate for 130 steps\n",
      "Epoch 1/500\n",
      "799/800 [============================>.] - ETA: 0s - loss: 2.5862 - acc: 0.5909\n",
      "Epoch 00001: val_loss improved from inf to 2.46878, saving model to hid_dim30_Lrate_0001_w-improvement-01-2.47.hdf5\n",
      "800/800 [==============================] - 291s 363ms/step - loss: 2.5864 - acc: 0.5907 - val_loss: 2.4688 - val_acc: 0.5702\n",
      "Epoch 2/500\n",
      "799/800 [============================>.] - ETA: 0s - loss: 2.2173 - acc: 0.5905\n",
      "Epoch 00002: val_loss improved from 2.46878 to 2.24440, saving model to hid_dim30_Lrate_0001_w-improvement-02-2.24.hdf5\n",
      "800/800 [==============================] - 269s 337ms/step - loss: 2.2178 - acc: 0.5904 - val_loss: 2.2444 - val_acc: 0.5703\n",
      "Epoch 3/500\n",
      "799/800 [============================>.] - ETA: 0s - loss: 2.0413 - acc: 0.5909\n",
      "Epoch 00003: val_loss improved from 2.24440 to 2.11284, saving model to hid_dim30_Lrate_0001_w-improvement-03-2.11.hdf5\n",
      "800/800 [==============================] - 269s 336ms/step - loss: 2.0418 - acc: 0.5908 - val_loss: 2.1128 - val_acc: 0.5715\n",
      "Epoch 4/500\n",
      "799/800 [============================>.] - ETA: 0s - loss: 1.9305 - acc: 0.5918\n",
      "Epoch 00004: val_loss improved from 2.11284 to 2.02654, saving model to hid_dim30_Lrate_0001_w-improvement-04-2.03.hdf5\n",
      "800/800 [==============================] - 270s 338ms/step - loss: 1.9311 - acc: 0.5917 - val_loss: 2.0265 - val_acc: 0.5725\n",
      "Epoch 5/500\n",
      "799/800 [============================>.] - ETA: 0s - loss: 1.8552 - acc: 0.5924\n",
      "Epoch 00005: val_loss improved from 2.02654 to 1.96704, saving model to hid_dim30_Lrate_0001_w-improvement-05-1.97.hdf5\n",
      "800/800 [==============================] - 270s 337ms/step - loss: 1.8558 - acc: 0.5923 - val_loss: 1.9670 - val_acc: 0.5737\n",
      "Epoch 6/500\n",
      "799/800 [============================>.] - ETA: 0s - loss: 1.8017 - acc: 0.5930\n",
      "Epoch 00006: val_loss improved from 1.96704 to 1.92444, saving model to hid_dim30_Lrate_0001_w-improvement-06-1.92.hdf5\n",
      "800/800 [==============================] - 279s 349ms/step - loss: 1.8022 - acc: 0.5929 - val_loss: 1.9244 - val_acc: 0.5746\n",
      "Epoch 7/500\n",
      "799/800 [============================>.] - ETA: 0s - loss: 1.7622 - acc: 0.5941\n",
      "Epoch 00007: val_loss improved from 1.92444 to 1.89289, saving model to hid_dim30_Lrate_0001_w-improvement-07-1.89.hdf5\n",
      "800/800 [==============================] - 322s 402ms/step - loss: 1.7628 - acc: 0.5940 - val_loss: 1.8929 - val_acc: 0.5760\n",
      "Epoch 8/500\n",
      "799/800 [============================>.] - ETA: 0s - loss: 1.7321 - acc: 0.5951\n",
      "Epoch 00008: val_loss improved from 1.89289 to 1.86878, saving model to hid_dim30_Lrate_0001_w-improvement-08-1.87.hdf5\n",
      "800/800 [==============================] - 301s 377ms/step - loss: 1.7327 - acc: 0.5950 - val_loss: 1.8688 - val_acc: 0.5770\n",
      "Epoch 9/500\n",
      "799/800 [============================>.] - ETA: 0s - loss: 1.7086 - acc: 0.5963\n",
      "Epoch 00009: val_loss improved from 1.86878 to 1.84986, saving model to hid_dim30_Lrate_0001_w-improvement-09-1.85.hdf5\n",
      "800/800 [==============================] - 291s 363ms/step - loss: 1.7091 - acc: 0.5962 - val_loss: 1.8499 - val_acc: 0.5782\n",
      "Epoch 10/500\n",
      "799/800 [============================>.] - ETA: 0s - loss: 1.6896 - acc: 0.5974\n",
      "Epoch 00010: val_loss improved from 1.84986 to 1.83464, saving model to hid_dim30_Lrate_0001_w-improvement-10-1.83.hdf5\n",
      "800/800 [==============================] - 281s 351ms/step - loss: 1.6902 - acc: 0.5973 - val_loss: 1.8346 - val_acc: 0.5792\n",
      "Epoch 11/500\n",
      "799/800 [============================>.] - ETA: 0s - loss: 1.6740 - acc: 0.5983\n",
      "Epoch 00011: val_loss improved from 1.83464 to 1.82213, saving model to hid_dim30_Lrate_0001_w-improvement-11-1.82.hdf5\n",
      "800/800 [==============================] - 288s 360ms/step - loss: 1.6746 - acc: 0.5982 - val_loss: 1.8221 - val_acc: 0.5803\n",
      "Epoch 12/500\n",
      "799/800 [============================>.] - ETA: 0s - loss: 1.6609 - acc: 0.5991\n",
      "Epoch 00012: val_loss improved from 1.82213 to 1.81165, saving model to hid_dim30_Lrate_0001_w-improvement-12-1.81.hdf5\n",
      "800/800 [==============================] - 286s 357ms/step - loss: 1.6615 - acc: 0.5991 - val_loss: 1.8116 - val_acc: 0.5812\n",
      "Epoch 13/500\n",
      "799/800 [============================>.] - ETA: 0s - loss: 1.6498 - acc: 0.5999\n",
      "Epoch 00013: val_loss improved from 1.81165 to 1.80277, saving model to hid_dim30_Lrate_0001_w-improvement-13-1.80.hdf5\n",
      "800/800 [==============================] - 288s 360ms/step - loss: 1.6504 - acc: 0.5998 - val_loss: 1.8028 - val_acc: 0.5819\n",
      "Epoch 14/500\n",
      "799/800 [============================>.] - ETA: 0s - loss: 1.6402 - acc: 0.6008\n",
      "Epoch 00014: val_loss improved from 1.80277 to 1.79513, saving model to hid_dim30_Lrate_0001_w-improvement-14-1.80.hdf5\n",
      "800/800 [==============================] - 279s 348ms/step - loss: 1.6408 - acc: 0.6007 - val_loss: 1.7951 - val_acc: 0.5826\n",
      "Epoch 15/500\n",
      "799/800 [============================>.] - ETA: 0s - loss: 1.6318 - acc: 0.6015\n",
      "Epoch 00015: val_loss improved from 1.79513 to 1.78848, saving model to hid_dim30_Lrate_0001_w-improvement-15-1.79.hdf5\n",
      "800/800 [==============================] - 281s 351ms/step - loss: 1.6324 - acc: 0.6014 - val_loss: 1.7885 - val_acc: 0.5833\n",
      "Epoch 16/500\n",
      "799/800 [============================>.] - ETA: 0s - loss: 1.6244 - acc: 0.6022\n",
      "Epoch 00016: val_loss improved from 1.78848 to 1.78264, saving model to hid_dim30_Lrate_0001_w-improvement-16-1.78.hdf5\n",
      "800/800 [==============================] - 281s 351ms/step - loss: 1.6250 - acc: 0.6021 - val_loss: 1.7826 - val_acc: 0.5842\n",
      "Epoch 17/500\n",
      "799/800 [============================>.] - ETA: 0s - loss: 1.6177 - acc: 0.6031\n",
      "Epoch 00017: val_loss improved from 1.78264 to 1.77748, saving model to hid_dim30_Lrate_0001_w-improvement-17-1.78.hdf5\n",
      "800/800 [==============================] - 280s 350ms/step - loss: 1.6183 - acc: 0.6030 - val_loss: 1.7775 - val_acc: 0.5853\n",
      "Epoch 18/500\n",
      "799/800 [============================>.] - ETA: 0s - loss: 1.6118 - acc: 0.6038\n",
      "Epoch 00018: val_loss improved from 1.77748 to 1.77287, saving model to hid_dim30_Lrate_0001_w-improvement-18-1.77.hdf5\n",
      "800/800 [==============================] - 284s 355ms/step - loss: 1.6124 - acc: 0.6037 - val_loss: 1.7729 - val_acc: 0.5858\n",
      "Epoch 19/500\n",
      "799/800 [============================>.] - ETA: 0s - loss: 1.6064 - acc: 0.6045\n",
      "Epoch 00019: val_loss improved from 1.77287 to 1.76874, saving model to hid_dim30_Lrate_0001_w-improvement-19-1.77.hdf5\n",
      "800/800 [==============================] - 281s 351ms/step - loss: 1.6070 - acc: 0.6044 - val_loss: 1.7687 - val_acc: 0.5865\n",
      "Epoch 20/500\n",
      "799/800 [============================>.] - ETA: 0s - loss: 1.6015 - acc: 0.6053\n",
      "Epoch 00020: val_loss improved from 1.76874 to 1.76501, saving model to hid_dim30_Lrate_0001_w-improvement-20-1.77.hdf5\n",
      "800/800 [==============================] - 276s 344ms/step - loss: 1.6021 - acc: 0.6052 - val_loss: 1.7650 - val_acc: 0.5870\n",
      "Epoch 21/500\n",
      "608/800 [=====================>........] - ETA: 1:02 - loss: 1.5994 - acc: 0.6068"
     ]
    }
   ],
   "source": [
    "model.load_weights('hid_dim30_w-improvement-96-1.72.hdf5', by_name=True)\n",
    "filepath=\"hid_dim30_Lrate_0001_w-improvement-{epoch:02d}-{val_loss:.2f}.hdf5\"\n",
    "checkpoint = ModelCheckpoint(filepath, monitor='val_loss', verbose=1, save_best_only=True, mode='min')\n",
    "callbacks_list = [checkpoint]\n",
    "model.fit_generator(train_generator(), \n",
    "                    validation_data=valid_generator(),\n",
    "                    callbacks=callbacks_list,\n",
    "                    steps_per_epoch = n_train, #batch size is inherently 1 via generator\n",
    "                    validation_steps= n_valid,\n",
    "                    epochs=500,\n",
    "                    verbose=1,)"
   ]
  },
  {
   "cell_type": "code",
   "execution_count": null,
   "metadata": {},
   "outputs": [],
   "source": [
    "# # user list key - session level\n",
    "# AM_userList = pd.read_csv('edx-learnerpathway-modeling/data/MITxPRO+AMxB+1T2018/MITxPRO+AMxB+1T2018-stdAgg-userList-key-sessionLevel.csv')\n",
    "# AM_userList\n",
    "\n",
    "# # learning pathway network edge lists - edge list for each student in the course that represent a directed \n",
    "# # transitions networks  of students pathway through the courses content modules.  this is all students.\n",
    "# AM_edgelist = pd.read_csv('edx-learnerpathway-modeling/data/MITxPRO+AMxB+1T2018/MITxPRO+AMxB+1T2018-stdAgg-edges-cohort.csv')\n",
    "# AM_edgelist[:5]"
   ]
  },
  {
   "cell_type": "code",
   "execution_count": null,
   "metadata": {},
   "outputs": [],
   "source": [
    "incoming_traj[0].shape"
   ]
  },
  {
   "cell_type": "code",
   "execution_count": null,
   "metadata": {},
   "outputs": [],
   "source": [
    "model.predict([0,1,3,4,5,6])[0,-1].tolist()"
   ]
  },
  {
   "cell_type": "code",
   "execution_count": null,
   "metadata": {},
   "outputs": [],
   "source": [
    "x = np.array([0,1,2,3,4,5,6]).reshape(1,-1)\n",
    "s = np.zeros(x.shape)\n",
    "model2.predict([x,s])[0,-1].tolist()"
   ]
  },
  {
   "cell_type": "code",
   "execution_count": null,
   "metadata": {},
   "outputs": [],
   "source": [
    "proposed_traj = [0]\n",
    "while len(proposed_traj) < 1000 and (len(proposed_traj) == 1 or proposed_traj[-1] != 0):\n",
    "    x = np.array(proposed_traj).reshape(1,-1)\n",
    "    #run with s = np.ones(x.shpae) for successful\n",
    "    #s = np.zeros(x.shape)\n",
    "    #predicted = np.argmax(model2.predict([x,s])[0,-1])\n",
    "    predicted = np.argmax(model.predict(x)[0,-1])\n",
    "    #print(predicted)\n",
    "    proposed_traj.append(predicted)\n",
    "print(proposed_traj)\n",
    "\n",
    "# cert_traj = pd.DataFrame(proposed_traj)\n",
    "# cert_traj.to_csv('common_NOcert_traj_hid_dim30.csv', header = ['Non-certified trajectory'], index = False)"
   ]
  },
  {
   "cell_type": "code",
   "execution_count": null,
   "metadata": {},
   "outputs": [],
   "source": [
    "# node list of all students' learning pathway networks\n",
    "AM_nodelist = pd.read_csv('edx-learnerpathway-modeling/data/MITxPRO+AMxB+1T2018/MITxPRO+AMxB+1T2018-stdAgg-nodes-cohort.csv')\n",
    "AM_nodelist"
   ]
  },
  {
   "cell_type": "code",
   "execution_count": null,
   "metadata": {},
   "outputs": [],
   "source": [
    "# appendix to the node list that provides a set of XY coordinates to generate a common layout for all networks \n",
    "# produced in the analysis.  force atlas with parameterization <- what is this?\n",
    "AM_node_coord = pd.read_csv('edx-learnerpathway-modeling/data/MITxPRO+AMxB+1T2018/MITxPRO+AMxB+1T2018-stdAgg-nodes-coordinates-FA2.csv')\n",
    "AM_node_coord[:5]"
   ]
  },
  {
   "cell_type": "code",
   "execution_count": null,
   "metadata": {},
   "outputs": [],
   "source": [
    "# student identifiers and performance statistics, certification, and enrollment data\n",
    "AM_id_and_performance = pd.read_csv('data/MITxPRO+AMxB+1T2018/MITxPRO-AMxB-1T2018-auth_user-students.csv')\n",
    "AM_id_and_performance['certGrp'].unique()"
   ]
  },
  {
   "cell_type": "code",
   "execution_count": null,
   "metadata": {},
   "outputs": [],
   "source": [
    "# meta data includes the course title, run dates\n",
    "LaaL_meta = pd.read_csv('data/MITxPRO+LASERxB1+1T2019/MITxPRO+LASERxB1+1T2019-meta.csv')\n",
    "LaaL_meta"
   ]
  },
  {
   "cell_type": "code",
   "execution_count": null,
   "metadata": {
    "scrolled": true
   },
   "outputs": [],
   "source": [
    "# complete course structure and module descriptions\n",
    "# list of student identifiers and performance statistics, certification, and enrollment data\n",
    "\n",
    "# LaaL_edgelist = pd.read_csv('data/MITxPRO+LASERxB1+1T2019/MITxPRO+LASERxB1+1T2019-modules.csv')\n",
    "# LaaL_edgelist"
   ]
  },
  {
   "cell_type": "code",
   "execution_count": null,
   "metadata": {},
   "outputs": [],
   "source": [
    "LaaL_edelist = pd.read_csv('data/MITxPRO+LASERxB1+1T2019/MITxPRO+LASERxB1+1T2019-stdAgg-edges.csv')\n",
    "LaaL_edelist[:5]"
   ]
  },
  {
   "cell_type": "code",
   "execution_count": null,
   "metadata": {},
   "outputs": [],
   "source": [
    "LaaL_nodelist = pd.read_csv('data/MITxPRO+LASERxB1+1T2019/MITxPRO+LASERxB1+1T2019-stdAgg-nodes.csv')\n",
    "LaaL_nodelist[:5]"
   ]
  },
  {
   "cell_type": "code",
   "execution_count": null,
   "metadata": {},
   "outputs": [],
   "source": [
    "LaaL_node_coord = pd.read_csv('data/MITxPRO+LASERxB1+1T2019/MITxPRO+LASERxB1+1T2019-stdAgg-nodes-coordinates-FA2.csv')\n",
    "LaaL_node_coord[:5]"
   ]
  },
  {
   "cell_type": "code",
   "execution_count": null,
   "metadata": {},
   "outputs": [],
   "source": [
    "LaaL_id_and_performance = pd.read_csv('data/MITxPRO+LASERxB1+1T2019/MITxPRO-LASERxB1-1T2019-auth_user-students.csv')\n",
    "LaaL_id_and_performance[:5]"
   ]
  },
  {
   "cell_type": "code",
   "execution_count": null,
   "metadata": {},
   "outputs": [],
   "source": []
  },
  {
   "cell_type": "code",
   "execution_count": null,
   "metadata": {},
   "outputs": [],
   "source": []
  },
  {
   "cell_type": "code",
   "execution_count": null,
   "metadata": {},
   "outputs": [],
   "source": []
  }
 ],
 "metadata": {
  "kernelspec": {
   "display_name": "Python 3",
   "language": "python",
   "name": "python3"
  },
  "language_info": {
   "codemirror_mode": {
    "name": "ipython",
    "version": 3
   },
   "file_extension": ".py",
   "mimetype": "text/x-python",
   "name": "python",
   "nbconvert_exporter": "python",
   "pygments_lexer": "ipython3",
   "version": "3.7.6"
  }
 },
 "nbformat": 4,
 "nbformat_minor": 4
}
