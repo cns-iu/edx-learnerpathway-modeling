{
 "cells": [
  {
   "cell_type": "code",
   "execution_count": 7,
   "metadata": {},
   "outputs": [],
   "source": [
    "import pandas as pd\n",
    "import numpy as np\n",
    "import matplotlib.pyplot as plt\n",
    "from glob import glob\n",
    "from sklearn_extra.cluster import KMedoids\n",
    "from sklearn.feature_extraction.text import CountVectorizer\n",
    "from data_parsing import load_trajectories"
   ]
  },
  {
   "cell_type": "code",
   "execution_count": 8,
   "metadata": {},
   "outputs": [],
   "source": [
    "# session level edge data\n",
    "trajectories = load_trajectories('data/MITxPRO+LASERxB1+1T2019/LaaL')"
   ]
  },
  {
   "cell_type": "code",
   "execution_count": 9,
   "metadata": {},
   "outputs": [
    {
     "data": {
      "text/plain": [
       "6199"
      ]
     },
     "execution_count": 9,
     "metadata": {},
     "output_type": "execute_result"
    }
   ],
   "source": [
    "vectorizer = CountVectorizer(ngram_range=[2,2])\n",
    "url_counts = vectorizer.fit_transform(list(trajectories.apply(lambda x : \" \".join([str(url) for url in x]))))\n",
    "len(vectorizer.get_feature_names())"
   ]
  },
  {
   "cell_type": "code",
   "execution_count": 35,
   "metadata": {},
   "outputs": [],
   "source": [
    "def get_medoid_clusters(k):\n",
    "    kmedoids = KMedoids(n_clusters = k).fit(url_counts)\n",
    "    kmedoids.labels_\n",
    "\n",
    "    labels = pd.DataFrame(kmedoids.labels_)\n",
    "    labels['index'] = trajectories.index\n",
    "    labels.to_csv('MITxPRO+LASERxB1+1T2019_kmedoids 8 clusters.csv', header = ['cluster id', 'user id'], index = False)\n",
    "\n",
    "    clusters = []\n",
    "    cluster_id = []\n",
    "    for i in range(k):\n",
    "        clusters.append([])\n",
    "        cluster_id.append([])\n",
    "        \n",
    "    for i, label in enumerate(kmedoids.labels_):\n",
    "        clusters[label].append(trajectories.index[i])\n",
    "        cluster_id[label].append(i)\n",
    "    return cluster_id"
   ]
  },
  {
   "cell_type": "code",
   "execution_count": 36,
   "metadata": {},
   "outputs": [
    {
     "name": "stdout",
     "output_type": "stream",
     "text": [
      "[0.11270127 0.11483911]\n",
      "[0.10274713 0.10491476 0.16238891]\n",
      "[0.09204663 0.09739139 0.14428612 0.18022378]\n",
      "[0.02314704 0.11105782 0.1289487  0.12795333 0.21309056]\n",
      "[0.21206888 0.02314704 0.11040569 0.12867447 0.12733563 0.12082144]\n",
      "[0.21478995 0.02314704 0.11151622 0.12867447 0.12733563 0.12082144\n",
      " 0.11370201]\n",
      "[0.21478995 0.02314704 0.11143136 0.12958912 0.12782523 0.12704076\n",
      " 0.11370201 0.11168271]\n"
     ]
    }
   ],
   "source": [
    "variance_by_k = []\n",
    "ks = list(range(2,9))\n",
    "for k in ks:\n",
    "    cluster_id = get_medoid_clusters(k)\n",
    "\n",
    "    cluster_variances = []\n",
    "    for i in range(k):\n",
    "        cluster_variances.append(url_counts.todense()[cluster_id[i]].var())\n",
    "    cluster_variances = np.array(cluster_variances)\n",
    "    cluster_counts = np.array([len(x) for x in cluster_id])\n",
    "    variance_by_k.append((cluster_variances*cluster_counts/930).sum())\n",
    "    print(cluster_variances)"
   ]
  },
  {
   "cell_type": "code",
   "execution_count": 37,
   "metadata": {},
   "outputs": [
    {
     "data": {
      "text/plain": [
       "Text(0, 0.5, 'Average inter-cluster variance')"
      ]
     },
     "execution_count": 37,
     "metadata": {},
     "output_type": "execute_result"
    },
    {
     "data": {
      "image/png": "[encoded data removed]",
      "text/plain": [
       "<Figure size 432x288 with 1 Axes>"
      ]
     },
     "metadata": {
      "needs_background": "light"
     },
     "output_type": "display_data"
    }
   ],
   "source": [
    "plt.scatter(ks, variance_by_k)\n",
    "plt.xlabel('Number of clusters')\n",
    "plt.ylabel('Average inter-cluster variance')"
   ]
  },
  {
   "cell_type": "code",
   "execution_count": null,
   "metadata": {},
   "outputs": [],
   "source": [
    "LaaL_edelist = pd.read_csv('data/MITxPRO+LASERxB1+1T2019/MITxPRO+LASERxB1+1T2019-stdAgg-edges.csv')\n",
    "LaaL_edelist[:5]"
   ]
  }
 ],
 "metadata": {
  "kernelspec": {
   "display_name": "Python 3",
   "language": "python",
   "name": "python3"
  },
  "language_info": {
   "codemirror_mode": {
    "name": "ipython",
    "version": 3
   },
   "file_extension": ".py",
   "mimetype": "text/x-python",
   "name": "python",
   "nbconvert_exporter": "python",
   "pygments_lexer": "ipython3",
   "version": "3.7.6"
  }
 },
 "nbformat": 4,
 "nbformat_minor": 4
}
