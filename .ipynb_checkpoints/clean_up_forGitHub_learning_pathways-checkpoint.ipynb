{
 "cells": [
  {
   "cell_type": "code",
   "execution_count": 3,
   "metadata": {},
   "outputs": [],
   "source": [
    "import warnings\n",
    "warnings.filterwarnings('ignore')\n",
    "# import pandas as pd\n",
    "# import numpy as np\n",
    "import matplotlib.pyplot as plt\n",
    "import seaborn as sb\n",
    "# import tensorflow as tf\n",
    "# import tensorflow.keras as keras\n",
    "# from tensorflow.keras.callbacks import ModelCheckpoint\n",
    "# from tensorflow.keras.layers import LSTM, Dense, Input, Embedding, Reshape, Multiply\n",
    "# from tensorflow.keras.optimizers import Adam\n",
    "# from tensorflow.keras.models import Model\n",
    "from data_parsing_class import DataParser\n",
    "from class_test import LSTM_model\n",
    "from preprocessing import DataGenerator\n",
    "# from functools import partial, reduce\n",
    "# from sklearn.feature_extraction.text import CountVectorizer\n",
    "# from collections import defaultdict\n",
    "# from sklearn.metrics import confusion_matrix, roc_curve, auc, roc_auc_score"
   ]
  },
  {
   "cell_type": "code",
   "execution_count": 4,
   "metadata": {},
   "outputs": [],
   "source": [
    "#dataLaaL = DataParser('data/MITxPRO+LASERxB1+1T2019/LaaL', 'data/MITxPRO+LASERxB1+1T2019/MITxPRO-LASERxB1-1T2019-auth_user-students.csv')\n",
    "dataAM = DataParser('data/MITxPRO+AMxB+1T2018/edges', 'data/MITxPRO+AMxB+1T2018/MITxPRO-AMxB-1T2018-auth_user-students.csv')"
   ]
  },
  {
   "cell_type": "code",
   "execution_count": 5,
   "metadata": {},
   "outputs": [],
   "source": [
    "#LaaL_gen = DataGenerator(dataLaaL.trajectories, dataLaaL.status)\n",
    "AM_gen = DataGenerator(dataAM.trajectories, dataAM.status)"
   ]
  },
  {
   "cell_type": "code",
   "execution_count": 6,
   "metadata": {},
   "outputs": [
    {
     "ename": "TypeError",
     "evalue": "__init__() got an unexpected keyword argument 'return_sequences'",
     "output_type": "error",
     "traceback": [
      "\u001b[0;31m---------------------------------------------------------------------------\u001b[0m",
      "\u001b[0;31mTypeError\u001b[0m                                 Traceback (most recent call last)",
      "\u001b[0;32m<ipython-input-6-eb5ac141b16f>\u001b[0m in \u001b[0;36m<module>\u001b[0;34m\u001b[0m\n\u001b[1;32m      1\u001b[0m \u001b[0;31m#LaaL_model = LSTM(LaaL_gen.num_URLs)\u001b[0m\u001b[0;34m\u001b[0m\u001b[0;34m\u001b[0m\u001b[0;34m\u001b[0m\u001b[0m\n\u001b[0;32m----> 2\u001b[0;31m \u001b[0mAM_model\u001b[0m \u001b[0;34m=\u001b[0m \u001b[0mLSTM\u001b[0m\u001b[0;34m(\u001b[0m\u001b[0mAM_gen\u001b[0m\u001b[0;34m.\u001b[0m\u001b[0mnum_URLs\u001b[0m\u001b[0;34m)\u001b[0m\u001b[0;34m\u001b[0m\u001b[0;34m\u001b[0m\u001b[0m\n\u001b[0m\u001b[1;32m      3\u001b[0m \u001b[0;31m#LaaL_model.train(LaaL_gen)\u001b[0m\u001b[0;34m\u001b[0m\u001b[0;34m\u001b[0m\u001b[0;34m\u001b[0m\u001b[0m\n",
      "\u001b[0;32m~/Documents/Y390_dev/edx-learnerpathway-modeling/class_test.py\u001b[0m in \u001b[0;36m__init__\u001b[0;34m(self, number_of_URL, optimizer, num_hidden, embedding_size, simple)\u001b[0m\n\u001b[1;32m     37\u001b[0m     \u001b[0mself\u001b[0m\u001b[0;34m.\u001b[0m\u001b[0mnumber_of_URL\u001b[0m \u001b[0;34m=\u001b[0m \u001b[0mnumber_of_URL\u001b[0m\u001b[0;34m\u001b[0m\u001b[0;34m\u001b[0m\u001b[0m\n\u001b[1;32m     38\u001b[0m \u001b[0;34m\u001b[0m\u001b[0m\n\u001b[0;32m---> 39\u001b[0;31m     \u001b[0mself\u001b[0m\u001b[0;34m.\u001b[0m\u001b[0mmodel\u001b[0m \u001b[0;34m=\u001b[0m \u001b[0mself\u001b[0m\u001b[0;34m.\u001b[0m\u001b[0m_build_model\u001b[0m\u001b[0;34m(\u001b[0m\u001b[0;34m)\u001b[0m\u001b[0;34m\u001b[0m\u001b[0;34m\u001b[0m\u001b[0m\n\u001b[0m\u001b[1;32m     40\u001b[0m \u001b[0;34m\u001b[0m\u001b[0m\n\u001b[1;32m     41\u001b[0m   \u001b[0;32mdef\u001b[0m \u001b[0m_build_model\u001b[0m\u001b[0;34m(\u001b[0m\u001b[0mself\u001b[0m\u001b[0;34m)\u001b[0m\u001b[0;34m:\u001b[0m\u001b[0;34m\u001b[0m\u001b[0;34m\u001b[0m\u001b[0m\n",
      "\u001b[0;32m~/Documents/Y390_dev/edx-learnerpathway-modeling/class_test.py\u001b[0m in \u001b[0;36m_build_model\u001b[0;34m(self)\u001b[0m\n\u001b[1;32m     44\u001b[0m     \u001b[0membed\u001b[0m \u001b[0;34m=\u001b[0m \u001b[0mEmbedding\u001b[0m\u001b[0;34m(\u001b[0m\u001b[0mself\u001b[0m\u001b[0;34m.\u001b[0m\u001b[0mnumber_of_URL\u001b[0m\u001b[0;34m,\u001b[0m \u001b[0mself\u001b[0m\u001b[0;34m.\u001b[0m\u001b[0membedding_size\u001b[0m\u001b[0;34m,\u001b[0m \u001b[0mname\u001b[0m\u001b[0;34m=\u001b[0m\u001b[0;34m'URL_embedding'\u001b[0m\u001b[0;34m)\u001b[0m\u001b[0;34m(\u001b[0m\u001b[0minput_\u001b[0m\u001b[0;34m)\u001b[0m\u001b[0;34m\u001b[0m\u001b[0;34m\u001b[0m\u001b[0m\n\u001b[1;32m     45\u001b[0m \u001b[0;34m\u001b[0m\u001b[0m\n\u001b[0;32m---> 46\u001b[0;31m     \u001b[0mrnn\u001b[0m \u001b[0;34m=\u001b[0m \u001b[0mLSTM\u001b[0m\u001b[0;34m(\u001b[0m\u001b[0mself\u001b[0m\u001b[0;34m.\u001b[0m\u001b[0mnum_hidden\u001b[0m\u001b[0;34m,\u001b[0m \u001b[0mreturn_sequences\u001b[0m\u001b[0;34m=\u001b[0m\u001b[0;32mTrue\u001b[0m\u001b[0;34m,\u001b[0m \u001b[0mname\u001b[0m\u001b[0;34m=\u001b[0m\u001b[0;34m'LSTM'\u001b[0m\u001b[0;34m)\u001b[0m\u001b[0;34m(\u001b[0m\u001b[0membed\u001b[0m\u001b[0;34m)\u001b[0m\u001b[0;34m\u001b[0m\u001b[0;34m\u001b[0m\u001b[0m\n\u001b[0m\u001b[1;32m     47\u001b[0m \u001b[0;34m\u001b[0m\u001b[0m\n\u001b[1;32m     48\u001b[0m     \u001b[0mpredicted_URL\u001b[0m \u001b[0;34m=\u001b[0m \u001b[0mDense\u001b[0m\u001b[0;34m(\u001b[0m\u001b[0mself\u001b[0m\u001b[0;34m.\u001b[0m\u001b[0mnumber_of_URL\u001b[0m\u001b[0;34m,\u001b[0m \u001b[0mactivation\u001b[0m \u001b[0;34m=\u001b[0m \u001b[0;34m'softmax'\u001b[0m\u001b[0;34m,\u001b[0m \u001b[0mname\u001b[0m\u001b[0;34m=\u001b[0m\u001b[0;34m'Predicted_URL'\u001b[0m\u001b[0;34m)\u001b[0m\u001b[0;34m(\u001b[0m\u001b[0mrnn\u001b[0m\u001b[0;34m)\u001b[0m\u001b[0;34m\u001b[0m\u001b[0;34m\u001b[0m\u001b[0m\n",
      "\u001b[0;31mTypeError\u001b[0m: __init__() got an unexpected keyword argument 'return_sequences'"
     ]
    }
   ],
   "source": [
    "#LaaL_model = LSTM(LaaL_gen.num_URLs)\n",
    "AM_model = LSTM_model(AM_gen.num_URLs)\n",
    "#LaaL_model.train(LaaL_gen)"
   ]
  },
  {
   "cell_type": "code",
   "execution_count": null,
   "metadata": {},
   "outputs": [],
   "source": [
    "#trajectories, status = load_trajectories('data/MITxPRO+AMxB+1T2018/edges', 'data/MITxPRO+AMxB+1T2018/MITxPRO-AMxB-1T2018-auth_user-students.csv')\n",
    "#trajectories, status = load_trajectories('data/MITxPRO+LASERxB1+1T2019/LaaL', 'data/MITxPRO+LASERxB1+1T2019/MITxPRO-LASERxB1-1T2019-auth_user-students.csv')\n"
   ]
  },
  {
   "cell_type": "code",
   "execution_count": 5,
   "metadata": {},
   "outputs": [
    {
     "name": "stdout",
     "output_type": "stream",
     "text": [
      "Maximum trajectory identified by number of clicks:  1699\n"
     ]
    },
    {
     "data": {
      "text/plain": [
       "Text(0, 0.5, 'Count of students')"
      ]
     },
     "execution_count": 5,
     "metadata": {},
     "output_type": "execute_result"
    },
    {
     "data": {
      "image/png": "[encoded data removed]",
      "text/plain": [
       "<Figure size 432x288 with 1 Axes>"
      ]
     },
     "metadata": {},
     "output_type": "display_data"
    }
   ],
   "source": [
    "# sb.set(context='notebook', style='white', palette='deep', font='Times', font_scale=1, color_codes=True, rc=None)\n",
    "# traj_lengths = trajectories.map(len).values\n",
    "# sb.distplot(traj_lengths, kde=False)\n",
    "# print(\"Maximum trajectory identified by number of clicks: \", max(traj_lengths))\n",
    "# plt.title('LaaL course')\n",
    "# plt.xlabel('Learner trajectory length identified by number of clicks')\n",
    "# plt.ylabel('Count of students')\n",
    "\n",
    "\n",
    "sb.set(context='notebook', style='white', palette='deep', font='Times', font_scale=1, color_codes=True, rc=None)\n",
    "traj_lengths = dataLaaL.trajectories.map(len).values\n",
    "sb.distplot(traj_lengths, kde=False)\n",
    "print(\"Maximum trajectory identified by number of clicks: \", max(traj_lengths))\n",
    "plt.title('LaaL course')\n",
    "plt.xlabel('Learner trajectory length identified by number of clicks')\n",
    "plt.ylabel('Count of students')"
   ]
  },
  {
   "cell_type": "markdown",
   "metadata": {},
   "source": [
    "## data generators "
   ]
  },
  {
   "cell_type": "code",
   "execution_count": null,
   "metadata": {},
   "outputs": [],
   "source": [
    "# index = np.arange(len(trajectories))\n",
    "# np.random.seed(9)\n",
    "# np.random.shuffle(index)\n",
    "\n",
    "# incoming_traj = []\n",
    "# outgoing_traj = []\n",
    "\n",
    "# # this split assumes that we don't need to rebalance for unequal category weights\n",
    "# n_valid = int(2*np.sqrt(len(trajectories)))\n",
    "# n_train = len(trajectories) - n_valid\n",
    "# success_rate = status[index[:n_train]].sum() / n_train\n",
    "\n",
    "# for traj in trajectories.values:\n",
    "#     incoming_traj.append(np.array(traj[:-1]).reshape(1,-1))\n",
    "#     outgoing_traj.append(np.array(traj[1:]).reshape(-1,1))\n",
    "\n",
    "# def data_generator(start, stop, use_status):\n",
    "#      while True:\n",
    "#         for i in range(start, stop):        \n",
    "#             x = incoming_traj[index[i]].reshape(1,-1)\n",
    "#             s = np.broadcast_to(status[index[i]], x.shape)\n",
    "#             y = outgoing_traj[index[i]].reshape(1,-1)\n",
    "#             if use_status:\n",
    "#                 yield [x,s],y\n",
    "#             else:\n",
    "#                 yield x,y\n",
    "\n",
    "# train_generator_simp = partial(data_generator, 0, n_train, False)\n",
    "# valid_generator_simp = partial(data_generator, n_train, n_train+n_valid, False)\n",
    "\n",
    "# train_generator_cond = partial(data_generator, 0, n_train, True)\n",
    "# valid_generator_cond = partial(data_generator, n_train, n_train+n_valid, True)\n",
    "# success_rate"
   ]
  },
  {
   "cell_type": "code",
   "execution_count": null,
   "metadata": {},
   "outputs": [],
   "source": [
    "# class Base_model ():\n",
    "#     def __init__(self):\n",
    "#         pass\n",
    "\n",
    "#     def save(self, fname):\n",
    "#         pass\n",
    "\n",
    "#     def generate_traj(self, proposed_traj):\n",
    "#         proposed_traj = [0]\n",
    "#         visit_count = defaultdict(int)\n",
    "#         max_allowed_visits = 25\n",
    "\n",
    "#         while len(proposed_traj) < 1000 and (len(proposed_traj) == 1 or proposed_traj[-1] != 0):\n",
    "#             x = np.array(proposed_traj).reshape(1,-1)\n",
    "#             for url in reversed(np.argsort(self.predict(x)[0,-1])):\n",
    "#                 if visit_count[url] < max_allowed_visits:\n",
    "#                     proposed_traj.append(url)\n",
    "#                     visit_count[url] += 1\n",
    "#                     break\n",
    "\n",
    "#         traj_to_edge_csv(proposed_traj, 'traj_fname.csv')\n",
    "\n",
    "# class LSTM (Base_model):\n",
    "#     def __init__(self, number_of_URL, optimizer=Adam(learning_rate=0.001), num_hidden=10, embedding_size=10, simple=True):\n",
    "#         super(self.__class__, self).__init__\n",
    "#         self.num_hidden = num_hidden\n",
    "#         self.embedding_size = embedding_size\n",
    "#         self.simple = simple\n",
    "#         self.optimizer = optimizer\n",
    "#         self.number_of_URL = number_of_URL\n",
    "\n",
    "#         self.model = self._build_model()\n",
    "\n",
    "#     def _build_model(self):\n",
    "#         #this is where the keras model build goes\n",
    "#         input_ = Input(shape=(None,), name='history')\n",
    "#         embed = Embedding(self.number_of_URL, self.embedding_size, name='URL_embedding')(input_)\n",
    "\n",
    "#         rnn = LSTM(self.num_hidden, return_sequences=True, name='LSTM')(embed)\n",
    "\n",
    "#         predicted_URL = Dense(self.number_of_URL, activation = 'softmax', name='Predicted_URL')(rnn)\n",
    "\n",
    "#         self.model = Model(inputs=input_, outputs=predicted_URL, name='Simple_model')\n",
    "#         self.model.compile(loss='sparse_categorical_crossentropy', optimizer=optimizer, metrics=['acc'])\n",
    "#         return self.model\n",
    "\n",
    "#     def train(self, data, filepath=None):\n",
    "#         train_generator, valid_generator = data.build_generators(False)\n",
    "#         if filepath is not None:\n",
    "#             checkpoint = ModelCheckpoint(filepath, monitor='val_loss', verbose=1, save_best_only=True, mode='min')\n",
    "#             callbacks_list = [checkpoint]\n",
    "#         else:\n",
    "#             callbacks_list = None\n",
    "#         model.fit_generator(train_generator(), \n",
    "#                             validation_data=valid_generator(),\n",
    "#                             callbacks=callbacks_list,\n",
    "#                             steps_per_epoch = data.n_train, #batch size is inherently 1 via generator\n",
    "#                             validation_steps= data.n_valid,\n",
    "#                             epochs=150,\n",
    "#                             verbose=1,)\n",
    "\n",
    "\n",
    "#     def save(self, fname):  ## where does self go here?\n",
    "#         self.model.save_weights(os.path.join('weights', fname))\n",
    "\n",
    "#     def load(self, fname):\n",
    "#         path = os.path.join('weights', fname)\n",
    "#         self.model.load_weights(path, by_name=True)\n",
    "\n",
    "#     def predict(self, input_traj):\n",
    "#         #give the probs for the next URLs based on current traj\n",
    "#         probabilities = np.array(self.model(input_traj)).reshape(-1, self.number_of_URL)[-1]\n",
    "#         return probabilities \n",
    "\n",
    "\n",
    "# class Random_model (Base_model):\n",
    "#     def __init__(self):\n",
    "#         super(self.__class__, self).__init__\n",
    "#         pass\n",
    "\n",
    "#     def predict(self, pred_traj):\n",
    "#         pred_traj = np.random.choice(self.number_of_URL)\n",
    "#         enc = np.eye(self.number_of_URL)[pred_traj]\n",
    "#         return enc"
   ]
  },
  {
   "cell_type": "markdown",
   "metadata": {},
   "source": [
    "## Define models"
   ]
  },
  {
   "cell_type": "code",
   "execution_count": null,
   "metadata": {},
   "outputs": [],
   "source": [
    "# hidden_dim = 60\n",
    "# embedding_dim = 30\n",
    "# # turning trajectories into sets of URLs\n",
    "# optimizer = Adam(learning_rate=0.001)\n",
    "# number_of_URL = max(trajectories.sum()) + 1\n",
    "# #number_of_URL = 1121"
   ]
  },
  {
   "cell_type": "code",
   "execution_count": null,
   "metadata": {
    "scrolled": true
   },
   "outputs": [],
   "source": [
    "# input_ = Input(shape=(None,), name='history')\n",
    "# embed = Embedding(number_of_URL, embedding_dim, name='URL_embedding')(input_)\n",
    "\n",
    "# rnn = LSTM(hidden_dim, return_sequences=True, name='LSTM')(embed)\n",
    "\n",
    "# predicted_URL = Dense(number_of_URL, activation = 'softmax', name='Predicted_URL')(rnn)\n",
    "\n",
    "# model_simp = Model(inputs=input_, outputs=predicted_URL, name='Simple_model')\n",
    "# model_simp.compile(loss='sparse_categorical_crossentropy', optimizer=optimizer, metrics=['acc'])\n",
    "# model_simp.summary()"
   ]
  },
  {
   "cell_type": "markdown",
   "metadata": {},
   "source": []
  },
  {
   "cell_type": "code",
   "execution_count": null,
   "metadata": {},
   "outputs": [],
   "source": [
    "# input_x = Input(shape=(None,), name='history')\n",
    "# input_s = Input(shape=(None,), name='status')\n",
    "# embed_x = Embedding(number_of_URL, embedding_dim, name='URL_embedding')(input_x)\n",
    "# embed_s = Embedding(2, hidden_dim, embeddings_initializer='ones', name='Status_embedding')(input_s)\n",
    "\n",
    "# rnn = LSTM(hidden_dim, return_sequences=True, name='LSTM')(embed_x)\n",
    "# masked = Multiply()([rnn, embed_s])\n",
    "\n",
    "# predicted_URL = Dense(number_of_URL, activation = 'softmax', name='Predicted_URL')(masked)\n",
    "\n",
    "# model_cond = Model(inputs=[input_x, input_s], outputs=predicted_URL, name='Conditional_model')\n",
    "# model_cond.compile(loss='sparse_categorical_crossentropy', optimizer=optimizer, metrics=['acc'])\n",
    "# model_cond.summary()"
   ]
  },
  {
   "cell_type": "markdown",
   "metadata": {},
   "source": [
    "## Run models"
   ]
  },
  {
   "cell_type": "code",
   "execution_count": null,
   "metadata": {},
   "outputs": [],
   "source": [
    "# #model_simp.load_weights('weights/')\n",
    "# model_cond.load_weights('weights/LaaL_cond_hiddim60-.hdf5', by_name=True)"
   ]
  },
  {
   "cell_type": "code",
   "execution_count": null,
   "metadata": {},
   "outputs": [],
   "source": [
    "# #filepath=\"AM_cond_hiddim37_02-.hdf5\"\n",
    "# checkpoint = ModelCheckpoint(filepath, monitor='val_loss', verbose=1, save_best_only=True, mode='min')\n",
    "# callbacks_list = [checkpoint]\n",
    "# model_cond.fit_generator(train_generator_cond(), \n",
    "#                     validation_data=valid_generator_cond(),\n",
    "#                     callbacks=callbacks_list,\n",
    "#                     steps_per_epoch = n_train, #batch size is inherently 1 via generator\n",
    "#                     validation_steps= n_valid,\n",
    "#                     epochs=150,\n",
    "#                     verbose=1,)"
   ]
  },
  {
   "cell_type": "markdown",
   "metadata": {},
   "source": [
    "## Sample trajectory creation "
   ]
  },
  {
   "cell_type": "code",
   "execution_count": null,
   "metadata": {},
   "outputs": [],
   "source": [
    "proposed_traj = [0]\n",
    "visit_count = defaultdict(int)\n",
    "max_allowed_visits = 25\n",
    "\n",
    "while len(proposed_traj) < 1000 and (len(proposed_traj) == 1 or proposed_traj[-1] != 0):\n",
    "    x = np.array(proposed_traj).reshape(1,-1)\n",
    "    #run with s = np.ones(x.shpae) for successful\n",
    "    s = np.zeros(x.shape)\n",
    "    for url in reversed(np.argsort(model.predict([x,s])[0,-1])):\n",
    "    #for url in reversed(np.argsort(model_simp.predict(x)[0,-1])):\n",
    "        if visit_count[url] < max_allowed_visits:\n",
    "            proposed_traj.append(url)\n",
    "            visit_count[url] += 1\n",
    "            break\n",
    "    #predicted = np.argmax(model.predict(x)[0,-1])\n",
    "    print(url)\n",
    "    \n",
    "# print(proposed_traj)\n",
    "\n",
    "# cert_traj = pd.DataFrame(proposed_traj)\n",
    "# cert_traj.to_csv('LaaL_simp_traj_hid_dim37.csv', header = ['simple trajectory'], index = False)\n",
    "traj_to_edge_csv(proposed_traj, 'MITxPRO+LASERxB1+1T2019_simulated_unsuccessfulEXTRA_Hdim37.csv')"
   ]
  },
  {
   "cell_type": "code",
   "execution_count": null,
   "metadata": {},
   "outputs": [],
   "source": [
    "# # this is to pull out the \"recommended traj\" \n",
    "# proposed_traj = [0]\n",
    "# visit_count = defaultdict(int)\n",
    "# max_allowed_visits = 25\n",
    "\n",
    "# while len(proposed_traj) < 1000 and (len(proposed_traj) == 1 or proposed_traj[-1] != 0):\n",
    "#     x = np.array(proposed_traj).reshape(1,-1)\n",
    "#     #run with s = np.ones(x.shpae) for successful\n",
    "#     s = np.ones(x.shape)\n",
    "#     u = np.zeros(x.shape)\n",
    "#     pred_s = model_cond.predict([x,s])[0,-1]\n",
    "#     pred_u = model_cond.predict([x,u])[0,-1]\n",
    "#     for url in reversed(np.argsort(pred_s - pred_u)):\n",
    "#         if visit_count[url] < max_allowed_visits:\n",
    "#             proposed_traj.append(url)\n",
    "#             visit_count[url] += 1\n",
    "#             break\n",
    "#     #predicted = np.argmax(model.predict(x)[0,-1])\n",
    "#     print(url)\n",
    "    \n",
    "# # print(proposed_traj)\n",
    "\n",
    "# # cert_traj = pd.DataFrame(proposed_traj)\n",
    "# # cert_traj.to_csv('LaaL_simp_traj_hid_dim37.csv', header = ['simple trajectory'], index = False)\n",
    "# traj_to_edge_csv(proposed_traj, 'MITxPRO+AMxB+1T2018_simulated_RECOMMENDEDsuccessful_Hdim60.csv')"
   ]
  },
  {
   "cell_type": "markdown",
   "metadata": {},
   "source": [
    "## Probability estimation"
   ]
  },
  {
   "cell_type": "code",
   "execution_count": null,
   "metadata": {},
   "outputs": [],
   "source": [
    "def score_traj(sample_traj):\n",
    "    x = np.array(sample_traj[:-1]).reshape(1,-1)\n",
    "    successful = np.ones(x.shape)\n",
    "    unsuccessful = np.zeros(x.shape)\n",
    "    cond_prob_successful = np.array(model_cond([x, successful])).reshape(-1, number_of_URL)\n",
    "    cond_prob_unsuccessful = np.array(model_cond([x, unsuccessful])).reshape(-1, number_of_URL)\n",
    "\n",
    "    score_s = []\n",
    "    score_u = []\n",
    "\n",
    "    for choice, prob_s, prob_u in zip(sample_traj[1:], cond_prob_successful, cond_prob_unsuccessful):\n",
    "        score_s.append(np.log(prob_s[choice]))\n",
    "        score_u.append(np.log(prob_u[choice]))\n",
    "    return score_s, score_u"
   ]
  },
  {
   "cell_type": "code",
   "execution_count": null,
   "metadata": {},
   "outputs": [],
   "source": [
    "def predict_success(traj):\n",
    "    score_s, score_u = score_traj(traj)\n",
    "    evidence_s = np.log(success_rate) + np.sum(score_s)\n",
    "    evidence_u = np.log(1 - success_rate) + np.sum(score_u)\n",
    "    prob_of_success = 1 / (1 + np.exp(evidence_u - evidence_s))\n",
    "    return prob_of_success"
   ]
  },
  {
   "cell_type": "code",
   "execution_count": null,
   "metadata": {},
   "outputs": [],
   "source": [
    "y_true = []\n",
    "y_pred = []\n",
    "\n",
    "for i in range(n_train, n_train+n_valid):\n",
    "    user = index[i]\n",
    "    traj = trajectories.iloc[user]\n",
    "    y_true.append(status[user])\n",
    "    y_pred.append(predict_success(traj))"
   ]
  },
  {
   "cell_type": "code",
   "execution_count": null,
   "metadata": {},
   "outputs": [],
   "source": [
    "print(list(zip(y_true,y_pred)))\n",
    "df = pd.DataFrame(confusion_matrix(y_true, np.round(y_pred)))\n",
    "df.columns = ['Predicted unsuccessful', 'Predicted successful']\n",
    "df.index = ['Actual unsuccessful', 'Actual successful']\n",
    "df\n",
    "# columns are predictions, rows are true"
   ]
  },
  {
   "cell_type": "code",
   "execution_count": null,
   "metadata": {},
   "outputs": [],
   "source": [
    "for i in range(75):\n",
    "    score_s, score_u = score_traj(trajectories.iloc[i])\n",
    "    score_s = np.array(score_s)\n",
    "    score_u = np.array(score_u)\n",
    "    score_delta = (score_s - score_u)[:-1]\n",
    "    sb.scatterplot(trajectories.iloc[i][1:-1], score_delta)\n",
    "    plt.xlabel('Learner URL selection')\n",
    "    plt.ylabel('Evidence suggesting successful or unsuccessful')\n",
    "    #plt.title('title')\n",
    "    plt.show()\n",
    "    \n",
    "    traj_pos = np.argmin(score_delta)\n",
    "    url = trajectories.iloc[i][traj_pos + 1]\n",
    "    if score_delta[traj_pos] < -0.3:\n",
    "        print(url)\n",
    "    print(url, score_s[traj_pos], score_u[traj_pos])\n",
    "    print(trajectories.iloc[i][:traj_pos + 1])\n",
    "    "
   ]
  },
  {
   "cell_type": "code",
   "execution_count": null,
   "metadata": {},
   "outputs": [],
   "source": [
    "incoming_traj[0].shape"
   ]
  },
  {
   "cell_type": "code",
   "execution_count": null,
   "metadata": {},
   "outputs": [],
   "source": [
    "model.predict([0,1,3,4,5,6])[0,-1].tolist()"
   ]
  },
  {
   "cell_type": "code",
   "execution_count": null,
   "metadata": {},
   "outputs": [],
   "source": [
    "x = np.array([0,1,2,3,4,5,6]).reshape(1,-1)\n",
    "s = np.zeros(x.shape)\n",
    "model2.predict([x,s])[0,-1].tolist()"
   ]
  },
  {
   "cell_type": "code",
   "execution_count": null,
   "metadata": {
    "scrolled": true
   },
   "outputs": [],
   "source": [
    "# complete course structure and module descriptions\n",
    "# list of student identifiers and performance statistics, certification, and enrollment data\n",
    "\n",
    "# LaaL_edgelist = pd.read_csv('data/MITxPRO+LASERxB1+1T2019/MITxPRO+LASERxB1+1T2019-modules.csv')\n",
    "# LaaL_edgelist\n",
    "\n",
    "LaaL_modules = pd.read_csv('data/MITxPRO+LASERxB1+1T2019/MITxPRO+LASERxB1+1T2019-modules00.csv')\n",
    "len(LaaL_modules)\n",
    "LaaL_modules[460:470]"
   ]
  },
  {
   "cell_type": "code",
   "execution_count": null,
   "metadata": {},
   "outputs": [],
   "source": []
  },
  {
   "cell_type": "code",
   "execution_count": null,
   "metadata": {},
   "outputs": [],
   "source": []
  }
 ],
 "metadata": {
  "kernelspec": {
   "display_name": "Python 3",
   "language": "python",
   "name": "python3"
  },
  "language_info": {
   "codemirror_mode": {
    "name": "ipython",
    "version": 3
   },
   "file_extension": ".py",
   "mimetype": "text/x-python",
   "name": "python",
   "nbconvert_exporter": "python",
   "pygments_lexer": "ipython3",
   "version": "3.7.9"
  }
 },
 "nbformat": 4,
 "nbformat_minor": 4
}
