{
 "cells": [
  {
   "cell_type": "code",
   "execution_count": 26,
   "metadata": {},
   "outputs": [],
   "source": [
    "import pandas as pd\n",
    "import numpy as np\n",
    "import matplotlib.pyplot as plt\n",
    "from glob import glob\n",
    "from sklearn_extra.cluster import KMedoids\n",
    "from sklearn.feature_extraction.text import CountVectorizer\n",
    "from data_parsing import load_trajectories"
   ]
  },
  {
   "cell_type": "code",
   "execution_count": 28,
   "metadata": {},
   "outputs": [],
   "source": [
    "# session level edge data\n",
    "trajectories = load_trajectories('data/MITxPRO+AMxB+1T2018/edges')"
   ]
  },
  {
   "cell_type": "code",
   "execution_count": 10,
   "metadata": {},
   "outputs": [
    {
     "data": {
      "text/plain": [
       "31648"
      ]
     },
     "execution_count": 10,
     "metadata": {},
     "output_type": "execute_result"
    }
   ],
   "source": [
    "vectorizer = CountVectorizer(ngram_range=[2,2])\n",
    "url_counts = vectorizer.fit_transform(list(trajectories.apply(lambda x : \" \".join([str(url) for url in x]))))\n",
    "len(vectorizer.get_feature_names())"
   ]
  },
  {
   "cell_type": "code",
   "execution_count": 16,
   "metadata": {},
   "outputs": [],
   "source": [
    "def get_medoid_clusters(k):\n",
    "    kmedoids = KMedoids(n_clusters = k).fit(url_counts)\n",
    "    kmedoids.labels_\n",
    "\n",
    "    labels = pd.DataFrame(kmedoids.labels_)\n",
    "    labels['index'] = trajectories.index\n",
    "    labels.to_csv('kmedoids 7 clusters.csv', header = ['cluster id', 'user id'], index = False)\n",
    "\n",
    "    clusters = []\n",
    "    cluster_id = []\n",
    "    for i in range(k):\n",
    "        clusters.append([])\n",
    "        cluster_id.append([])\n",
    "        \n",
    "    for i, label in enumerate(kmedoids.labels_):\n",
    "        clusters[label].append(trajectories.index[i])\n",
    "        cluster_id[label].append(i)\n",
    "    return cluster_id"
   ]
  },
  {
   "cell_type": "code",
   "execution_count": 22,
   "metadata": {},
   "outputs": [
    {
     "name": "stdout",
     "output_type": "stream",
     "text": [
      "[0.03850127 0.01443559]\n",
      "[0.03639269 0.01370657 0.04284131]\n",
      "[0.02967598 0.01359317 0.032548   0.05966508]\n",
      "[0.03010972 0.01350962 0.03318537 0.06303905 0.0297538 ]\n",
      "[0.03118641 0.03379869 0.02421345 0.03184922 0.06737015 0.0107535 ]\n",
      "[0.03021312 0.03005124 0.02418642 0.03118261 0.06697092 0.0107535\n",
      " 0.04402751]\n"
     ]
    }
   ],
   "source": [
    "variance_by_k = []\n",
    "ks = list(range(2,8))\n",
    "for k in ks:\n",
    "    cluster_id = get_medoid_clusters(k)\n",
    "\n",
    "    cluster_variances = []\n",
    "    for i in range(k):\n",
    "        cluster_variances.append(url_counts.todense()[cluster_id[i]].var())\n",
    "    cluster_variances = np.array(cluster_variances)\n",
    "    cluster_counts = np.array([len(x) for x in cluster_id])\n",
    "    variance_by_k.append((cluster_variances*cluster_counts/930).sum())\n",
    "    print(cluster_variances)"
   ]
  },
  {
   "cell_type": "code",
   "execution_count": 25,
   "metadata": {},
   "outputs": [
    {
     "data": {
      "text/plain": [
       "Text(0, 0.5, 'Average inter-cluster variance')"
      ]
     },
     "execution_count": 25,
     "metadata": {},
     "output_type": "execute_result"
    },
    {
     "data": {
      "image/png": "[encoded data removed]",
      "text/plain": [
       "<Figure size 432x288 with 1 Axes>"
      ]
     },
     "metadata": {
      "needs_background": "light"
     },
     "output_type": "display_data"
    }
   ],
   "source": [
    "plt.scatter(ks, variance_by_k)\n",
    "plt.xlabel('Number of clusters')\n",
    "plt.ylabel('Average inter-cluster variance')"
   ]
  },
  {
   "cell_type": "code",
   "execution_count": null,
   "metadata": {},
   "outputs": [],
   "source": [
    "LaaL_edelist = pd.read_csv('data/MITxPRO+LASERxB1+1T2019/MITxPRO+LASERxB1+1T2019-stdAgg-edges.csv')\n",
    "LaaL_edelist[:5]"
   ]
  }
 ],
 "metadata": {
  "kernelspec": {
   "display_name": "Python 3",
   "language": "python",
   "name": "python3"
  },
  "language_info": {
   "codemirror_mode": {
    "name": "ipython",
    "version": 3
   },
   "file_extension": ".py",
   "mimetype": "text/x-python",
   "name": "python",
   "nbconvert_exporter": "python",
   "pygments_lexer": "ipython3",
   "version": "3.7.6"
  }
 },
 "nbformat": 4,
 "nbformat_minor": 4
}
