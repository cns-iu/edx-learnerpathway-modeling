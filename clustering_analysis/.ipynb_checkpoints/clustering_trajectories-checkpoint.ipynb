{
 "cells": [
  {
   "cell_type": "code",
   "execution_count": 1,
   "metadata": {},
   "outputs": [],
   "source": [
    "import pandas as pd\n",
    "import numpy as np\n",
    "import matplotlib.pyplot as plt\n",
    "from glob import glob\n",
    "from sklearn_extra.cluster import KMedoids\n",
    "from sklearn.feature_extraction.text import CountVectorizer\n",
    "from data_parsing import load_trajectories"
   ]
  },
  {
   "cell_type": "code",
   "execution_count": 3,
   "metadata": {},
   "outputs": [],
   "source": [
    "# session level edge data\n",
    "#trajectories = load_trajectories('data/MITxPRO+LASERxB1+1T2019/LaaL')\n",
    "trajectories, status = load_trajectories('data/MITxPRO+AMxB+1T2018/edges', 'data/MITxPRO+AMxB+1T2018/MITxPRO-AMxB-1T2018-auth_user-students.csv')\n",
    "\n",
    "\n",
    "#id_and_performance = pd.read_csv('data/MITxPRO+LASERxB1+1T2019/MITxPRO-LASERxB1-1T2019-auth_user-students.csv')\n",
    "id_and_performance = pd.read_csv('data/MITxPRO+AMxB+1T2018/MITxPRO-AMxB-1T2018-auth_user-students.csv')\n"
   ]
  },
  {
   "cell_type": "code",
   "execution_count": 4,
   "metadata": {},
   "outputs": [
    {
     "data": {
      "text/plain": [
       "31648"
      ]
     },
     "execution_count": 4,
     "metadata": {},
     "output_type": "execute_result"
    }
   ],
   "source": [
    "vectorizer = CountVectorizer(ngram_range=[2,2])\n",
    "url_counts = vectorizer.fit_transform(list(trajectories.apply(lambda x : \" \".join([str(url) for url in x]))))\n",
    "len(vectorizer.get_feature_names())"
   ]
  },
  {
   "cell_type": "code",
   "execution_count": 14,
   "metadata": {},
   "outputs": [],
   "source": [
    "def get_medoid_clusters(k):\n",
    "    kmedoids = KMedoids(n_clusters = k).fit(url_counts)\n",
    "    kmedoids.labels_\n",
    "    \n",
    "    labels = pd.DataFrame(kmedoids.labels_)\n",
    "    labels['index'] = trajectories.index\n",
    "    labels['is exemplar'] = 0\n",
    "    for exemplar in kmedoids.medoid_indices_:\n",
    "        labels.iloc[exemplar, 2] = 1\n",
    "    #labels.to_csv('MITxPRO+LASERxB1+1T2019_kmedoids {} clusters.csv'.format(k), header = ['cluster id', 'user id', \n",
    "                                                                                     #'is exemplar'], index = False)\n",
    "\n",
    "    \n",
    "    clusters = []\n",
    "    cluster_id = []\n",
    "    cluster_len = []\n",
    "    for i in range(k):\n",
    "        clusters.append([])\n",
    "        cluster_id.append([])\n",
    "        cluster_len.append([])\n",
    "        \n",
    "    for i, label in enumerate(kmedoids.labels_):\n",
    "        clusters[label].append(trajectories.index[i])\n",
    "        cluster_id[label].append(i)\n",
    "        cluster_len[label].append(len(trajectories.iloc[i]))\n",
    "    print([np.mean(x) for x in cluster_len])\n",
    "    for i in range(k):\n",
    "        plt.hist(cluster_len[i], bins=[0,250,500,750,1000,1250,1500,1750,2000,2250,2500,2750,3000,3250,3500])\n",
    "    plt.show()\n",
    "    return cluster_id"
   ]
  },
  {
   "cell_type": "code",
   "execution_count": 15,
   "metadata": {},
   "outputs": [
    {
     "name": "stdout",
     "output_type": "stream",
     "text": [
      "[829.7137096774194, 389.994623655914]\n"
     ]
    },
    {
     "data": {
      "image/png": "[encoded data removed]",
      "text/plain": [
       "<Figure size 432x288 with 1 Axes>"
      ]
     },
     "metadata": {
      "needs_background": "light"
     },
     "output_type": "display_data"
    },
    {
     "name": "stdout",
     "output_type": "stream",
     "text": [
      "[0.03850127 0.01443559]\n",
      "[813.8352059925094, 373.4080459770115, 857.1396396396397]\n"
     ]
    },
    {
     "data": {
      "image/png": "[encoded data removed]",
      "text/plain": [
       "<Figure size 432x288 with 1 Axes>"
      ]
     },
     "metadata": {
      "needs_background": "light"
     },
     "output_type": "display_data"
    },
    {
     "name": "stdout",
     "output_type": "stream",
     "text": [
      "[0.03639269 0.01370657 0.04284131]\n",
      "[736.012853470437, 371.1046511627907, 761.6213017751479, 1054.965]\n"
     ]
    },
    {
     "data": {
      "image/png": "[encoded data removed]",
      "text/plain": [
       "<Figure size 432x288 with 1 Axes>"
      ]
     },
     "metadata": {
      "needs_background": "light"
     },
     "output_type": "display_data"
    },
    {
     "name": "stdout",
     "output_type": "stream",
     "text": [
      "[0.02967598 0.01359317 0.032548   0.05966508]\n",
      "[744.0524781341107, 368.72352941176473, 771.979020979021, 1090.287356321839, 718.5]\n"
     ]
    },
    {
     "data": {
      "image/png": "[encoded data removed]",
      "text/plain": [
       "<Figure size 432x288 with 1 Axes>"
      ]
     },
     "metadata": {
      "needs_background": "light"
     },
     "output_type": "display_data"
    },
    {
     "name": "stdout",
     "output_type": "stream",
     "text": [
      "[0.03010972 0.01350962 0.03318537 0.06303905 0.0297538 ]\n",
      "[764.0526315789474, 788.9391304347826, 596.9109947643979, 755.8732394366198, 1143.9797297297298, 295.64356435643566]\n"
     ]
    },
    {
     "data": {
      "image/png": "[encoded data removed]",
      "text/plain": [
       "<Figure size 432x288 with 1 Axes>"
      ]
     },
     "metadata": {
      "needs_background": "light"
     },
     "output_type": "display_data"
    },
    {
     "name": "stdout",
     "output_type": "stream",
     "text": [
      "[0.03118641 0.03379869 0.02421345 0.03184922 0.06737015 0.0107535 ]\n"
     ]
    }
   ],
   "source": [
    "variance_by_k = []\n",
    "ks = list(range(2,7))\n",
    "for k in ks:\n",
    "    cluster_id = get_medoid_clusters(k)\n",
    "    \n",
    "    cluster_variances = []\n",
    "    for i in range(k):\n",
    "        cluster_variances.append(url_counts.todense()[cluster_id[i]].var())\n",
    "    cluster_variances = np.array(cluster_variances)\n",
    "    cluster_counts = np.array([len(x) for x in cluster_id])\n",
    "    variance_by_k.append((cluster_variances*cluster_counts/len(trajectories)).sum())\n",
    "    print(cluster_variances)"
   ]
  },
  {
   "cell_type": "code",
   "execution_count": 55,
   "metadata": {},
   "outputs": [
    {
     "data": {
      "text/html": [
       "<div>\n",
       "<style scoped>\n",
       "    .dataframe tbody tr th:only-of-type {\n",
       "        vertical-align: middle;\n",
       "    }\n",
       "\n",
       "    .dataframe tbody tr th {\n",
       "        vertical-align: top;\n",
       "    }\n",
       "\n",
       "    .dataframe thead th {\n",
       "        text-align: right;\n",
       "    }\n",
       "</style>\n",
       "<table border=\"1\" class=\"dataframe\">\n",
       "  <thead>\n",
       "    <tr style=\"text-align: right;\">\n",
       "      <th></th>\n",
       "      <th>cluster id</th>\n",
       "      <th>user id</th>\n",
       "      <th>is exemplar</th>\n",
       "    </tr>\n",
       "  </thead>\n",
       "  <tbody>\n",
       "    <tr>\n",
       "      <th>146</th>\n",
       "      <td>0</td>\n",
       "      <td>15886017</td>\n",
       "      <td>1</td>\n",
       "    </tr>\n",
       "    <tr>\n",
       "      <th>213</th>\n",
       "      <td>3</td>\n",
       "      <td>18386609</td>\n",
       "      <td>1</td>\n",
       "    </tr>\n",
       "    <tr>\n",
       "      <th>412</th>\n",
       "      <td>2</td>\n",
       "      <td>18608901</td>\n",
       "      <td>1</td>\n",
       "    </tr>\n",
       "    <tr>\n",
       "      <th>448</th>\n",
       "      <td>1</td>\n",
       "      <td>18663578</td>\n",
       "      <td>1</td>\n",
       "    </tr>\n",
       "    <tr>\n",
       "      <th>488</th>\n",
       "      <td>4</td>\n",
       "      <td>18776893</td>\n",
       "      <td>1</td>\n",
       "    </tr>\n",
       "    <tr>\n",
       "      <th>533</th>\n",
       "      <td>6</td>\n",
       "      <td>18863414</td>\n",
       "      <td>1</td>\n",
       "    </tr>\n",
       "    <tr>\n",
       "      <th>741</th>\n",
       "      <td>5</td>\n",
       "      <td>18955579</td>\n",
       "      <td>1</td>\n",
       "    </tr>\n",
       "  </tbody>\n",
       "</table>\n",
       "</div>"
      ],
      "text/plain": [
       "     cluster id   user id  is exemplar\n",
       "146           0  15886017            1\n",
       "213           3  18386609            1\n",
       "412           2  18608901            1\n",
       "448           1  18663578            1\n",
       "488           4  18776893            1\n",
       "533           6  18863414            1\n",
       "741           5  18955579            1"
      ]
     },
     "execution_count": 55,
     "metadata": {},
     "output_type": "execute_result"
    }
   ],
   "source": [
    "temp = pd.read_csv('MITxPRO+AMxB+1T2018_kmedoids 7 clusters.csv')\n",
    "temp[temp['is exemplar']==1]"
   ]
  },
  {
   "cell_type": "code",
   "execution_count": 77,
   "metadata": {},
   "outputs": [
    {
     "data": {
      "text/plain": [
       "Text(0.5, 1.0, 'Additive Manufacturing for Innovative Design and Production (AM course)')"
      ]
     },
     "execution_count": 77,
     "metadata": {},
     "output_type": "execute_result"
    },
    {
     "data": {
      "image/png": "[encoded data removed]",
      "text/plain": [
       "<Figure size 432x288 with 1 Axes>"
      ]
     },
     "metadata": {
      "needs_background": "light"
     },
     "output_type": "display_data"
    }
   ],
   "source": [
    "plt.scatter(ks, variance_by_k)\n",
    "plt.xlabel('Number of clusters')\n",
    "plt.ylabel('Average inter-cluster variance')\n",
    "plt.title('Additive Manufacturing for Innovative Design and Production (AM course)')"
   ]
  },
  {
   "cell_type": "code",
   "execution_count": 47,
   "metadata": {},
   "outputs": [
    {
     "data": {
      "text/html": [
       "<div>\n",
       "<style scoped>\n",
       "    .dataframe tbody tr th:only-of-type {\n",
       "        vertical-align: middle;\n",
       "    }\n",
       "\n",
       "    .dataframe tbody tr th {\n",
       "        vertical-align: top;\n",
       "    }\n",
       "\n",
       "    .dataframe thead th {\n",
       "        text-align: right;\n",
       "    }\n",
       "</style>\n",
       "<table border=\"1\" class=\"dataframe\">\n",
       "  <thead>\n",
       "    <tr style=\"text-align: right;\">\n",
       "      <th></th>\n",
       "      <th>cluster id</th>\n",
       "      <th>certificate status</th>\n",
       "      <th>count</th>\n",
       "    </tr>\n",
       "  </thead>\n",
       "  <tbody>\n",
       "    <tr>\n",
       "      <th>0</th>\n",
       "      <td>0</td>\n",
       "      <td>Certified (&lt; 70% Grade)</td>\n",
       "      <td>355</td>\n",
       "    </tr>\n",
       "    <tr>\n",
       "      <th>1</th>\n",
       "      <td>0</td>\n",
       "      <td>Not certified (&gt; 70% Grade)</td>\n",
       "      <td>34</td>\n",
       "    </tr>\n",
       "    <tr>\n",
       "      <th>2</th>\n",
       "      <td>1</td>\n",
       "      <td>Certified (&lt; 70% Grade)</td>\n",
       "      <td>61</td>\n",
       "    </tr>\n",
       "    <tr>\n",
       "      <th>3</th>\n",
       "      <td>1</td>\n",
       "      <td>Not certified (&gt; 70% Grade)</td>\n",
       "      <td>111</td>\n",
       "    </tr>\n",
       "    <tr>\n",
       "      <th>4</th>\n",
       "      <td>2</td>\n",
       "      <td>Certified (&lt; 70% Grade)</td>\n",
       "      <td>134</td>\n",
       "    </tr>\n",
       "    <tr>\n",
       "      <th>5</th>\n",
       "      <td>2</td>\n",
       "      <td>Not certified (&gt; 70% Grade)</td>\n",
       "      <td>35</td>\n",
       "    </tr>\n",
       "    <tr>\n",
       "      <th>6</th>\n",
       "      <td>3</td>\n",
       "      <td>Certified (&lt; 70% Grade)</td>\n",
       "      <td>159</td>\n",
       "    </tr>\n",
       "    <tr>\n",
       "      <th>7</th>\n",
       "      <td>3</td>\n",
       "      <td>Not certified (&gt; 70% Grade)</td>\n",
       "      <td>41</td>\n",
       "    </tr>\n",
       "  </tbody>\n",
       "</table>\n",
       "</div>"
      ],
      "text/plain": [
       "  cluster id           certificate status  count\n",
       "0          0      Certified (< 70% Grade)    355\n",
       "1          0  Not certified (> 70% Grade)     34\n",
       "2          1      Certified (< 70% Grade)     61\n",
       "3          1  Not certified (> 70% Grade)    111\n",
       "4          2      Certified (< 70% Grade)    134\n",
       "5          2  Not certified (> 70% Grade)     35\n",
       "6          3      Certified (< 70% Grade)    159\n",
       "7          3  Not certified (> 70% Grade)     41"
      ]
     },
     "execution_count": 47,
     "metadata": {},
     "output_type": "execute_result"
    }
   ],
   "source": [
    "#status = id_and_performance[id_and_performance['certGrp']== 'Certified (< 65% Grade)']\n",
    "cluster_df = pd.read_csv('MITxPRO+AMxB+1T2018_kmedoids 4 clusters.csv')\n",
    "performance_df = pd.merge(cluster_df, id_and_performance, left_on='user id', right_on='id')\n",
    "performance_df['cluster id'] = pd.Categorical(performance_df['cluster id'])\n",
    "performance_table = performance_df.groupby(['cluster id','certGrp'],\n",
    "                                           as_index=False, observed=False).count()[['cluster id', 'certGrp', 'id']]\n",
    "performance_table.columns = ['cluster id', 'certificate status', 'count']\n",
    "performance_table"
   ]
  },
  {
   "cell_type": "code",
   "execution_count": 10,
   "metadata": {},
   "outputs": [
    {
     "data": {
      "text/html": [
       "<div>\n",
       "<style scoped>\n",
       "    .dataframe tbody tr th:only-of-type {\n",
       "        vertical-align: middle;\n",
       "    }\n",
       "\n",
       "    .dataframe tbody tr th {\n",
       "        vertical-align: top;\n",
       "    }\n",
       "\n",
       "    .dataframe thead th {\n",
       "        text-align: right;\n",
       "    }\n",
       "</style>\n",
       "<table border=\"1\" class=\"dataframe\">\n",
       "  <thead>\n",
       "    <tr style=\"text-align: right;\">\n",
       "      <th></th>\n",
       "      <th>from</th>\n",
       "      <th>to</th>\n",
       "      <th>stds</th>\n",
       "      <th>weight</th>\n",
       "      <th>dis</th>\n",
       "      <th>sl</th>\n",
       "    </tr>\n",
       "  </thead>\n",
       "  <tbody>\n",
       "    <tr>\n",
       "      <th>0</th>\n",
       "      <td>001339db8ced4cf78829ebe8b145449d</td>\n",
       "      <td>001339db8ced4cf78829ebe8b145449d</td>\n",
       "      <td>179</td>\n",
       "      <td>1096</td>\n",
       "      <td>0</td>\n",
       "      <td>1</td>\n",
       "    </tr>\n",
       "    <tr>\n",
       "      <th>1</th>\n",
       "      <td>001339db8ced4cf78829ebe8b145449d</td>\n",
       "      <td>452745e0366e42ae81561bfddebcc6c3</td>\n",
       "      <td>177</td>\n",
       "      <td>179</td>\n",
       "      <td>1</td>\n",
       "      <td>0</td>\n",
       "    </tr>\n",
       "    <tr>\n",
       "      <th>2</th>\n",
       "      <td>001339db8ced4cf78829ebe8b145449d</td>\n",
       "      <td>4660ff2089114e8db82ceb26a4f329e3</td>\n",
       "      <td>2</td>\n",
       "      <td>2</td>\n",
       "      <td>2</td>\n",
       "      <td>0</td>\n",
       "    </tr>\n",
       "    <tr>\n",
       "      <th>3</th>\n",
       "      <td>001339db8ced4cf78829ebe8b145449d</td>\n",
       "      <td>901e92500aea43c79f19f1b279050668</td>\n",
       "      <td>4</td>\n",
       "      <td>4</td>\n",
       "      <td>-1</td>\n",
       "      <td>0</td>\n",
       "    </tr>\n",
       "    <tr>\n",
       "      <th>4</th>\n",
       "      <td>00ae5f0c51874a73a41ebea838d95682</td>\n",
       "      <td>00ae5f0c51874a73a41ebea838d95682</td>\n",
       "      <td>119</td>\n",
       "      <td>383</td>\n",
       "      <td>0</td>\n",
       "      <td>1</td>\n",
       "    </tr>\n",
       "  </tbody>\n",
       "</table>\n",
       "</div>"
      ],
      "text/plain": [
       "                               from                                to  stds  \\\n",
       "0  001339db8ced4cf78829ebe8b145449d  001339db8ced4cf78829ebe8b145449d   179   \n",
       "1  001339db8ced4cf78829ebe8b145449d  452745e0366e42ae81561bfddebcc6c3   177   \n",
       "2  001339db8ced4cf78829ebe8b145449d  4660ff2089114e8db82ceb26a4f329e3     2   \n",
       "3  001339db8ced4cf78829ebe8b145449d  901e92500aea43c79f19f1b279050668     4   \n",
       "4  00ae5f0c51874a73a41ebea838d95682  00ae5f0c51874a73a41ebea838d95682   119   \n",
       "\n",
       "   weight  dis  sl  \n",
       "0    1096    0   1  \n",
       "1     179    1   0  \n",
       "2       2    2   0  \n",
       "3       4   -1   0  \n",
       "4     383    0   1  "
      ]
     },
     "execution_count": 10,
     "metadata": {},
     "output_type": "execute_result"
    }
   ],
   "source": [
    "LaaL_edelist = pd.read_csv('data/MITxPRO+LASERxB1+1T2019/MITxPRO+LASERxB1+1T2019-stdAgg-edges.csv')\n",
    "LaaL_edelist[:5]"
   ]
  }
 ],
 "metadata": {
  "kernelspec": {
   "display_name": "Python 3",
   "language": "python",
   "name": "python3"
  },
  "language_info": {
   "codemirror_mode": {
    "name": "ipython",
    "version": 3
   },
   "file_extension": ".py",
   "mimetype": "text/x-python",
   "name": "python",
   "nbconvert_exporter": "python",
   "pygments_lexer": "ipython3",
   "version": "3.7.9"
  }
 },
 "nbformat": 4,
 "nbformat_minor": 4
}
